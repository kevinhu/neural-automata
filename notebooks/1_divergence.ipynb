{
 "cells": [
  {
   "cell_type": "code",
   "execution_count": 2,
   "metadata": {
    "ExecuteTime": {
     "end_time": "2020-08-03T18:47:02.006493Z",
     "start_time": "2020-08-03T18:47:00.995255Z"
    }
   },
   "outputs": [],
   "source": [
    "import torch\n",
    "from torch import nn\n",
    "\n",
    "import torch.functional as F\n",
    "import torchvision.transforms.functional as TF\n",
    "import torch.utils.checkpoint as checkpoint\n",
    "\n",
    "import matplotlib.pyplot as plt\n",
    "import matplotlib as mpl\n",
    "import seaborn as sns\n",
    "\n",
    "import numpy as np\n",
    "import random\n",
    "\n",
    "import sys\n",
    "\n",
    "sys.path.append(\"../includes\")\n",
    "\n",
    "import models\n",
    "import utils\n",
    "\n",
    "import imageio\n",
    "import imageio_ffmpeg\n",
    "\n",
    "use_cuda = torch.cuda.is_available()\n",
    "device = torch.device(\"cuda:0\" if use_cuda else \"cpu\")"
   ]
  },
  {
   "cell_type": "markdown",
   "metadata": {},
   "source": [
    "# Load images"
   ]
  },
  {
   "cell_type": "code",
   "execution_count": 3,
   "metadata": {
    "ExecuteTime": {
     "end_time": "2020-08-03T18:47:04.624561Z",
     "start_time": "2020-08-03T18:47:02.008264Z"
    },
    "scrolled": false
   },
   "outputs": [
    {
     "name": "stdout",
     "output_type": "stream",
     "text": [
      "1f347\n",
      "1f951\n"
     ]
    },
    {
     "data": {
      "image/png": "[encoded data removed]",
      "text/plain": [
       "<Figure size 432x288 with 1 Axes>"
      ]
     },
     "metadata": {
      "needs_background": "light"
     },
     "output_type": "display_data"
    },
    {
     "data": {
      "image/png": "[encoded data removed]",
      "text/plain": [
       "<Figure size 432x288 with 1 Axes>"
      ]
     },
     "metadata": {
      "needs_background": "light"
     },
     "output_type": "display_data"
    }
   ],
   "source": [
    "image_1 = utils.load_emoji(\"🍇\", 32, 16).to(device)\n",
    "image_2 = utils.load_emoji(\"🥑\", 32, 16).to(device)\n",
    "\n",
    "plt.imshow(image_1.transpose(0, 2).cpu())\n",
    "plt.show()\n",
    "plt.imshow(image_2.transpose(0, 2).cpu())\n",
    "plt.show()\n",
    "\n",
    "img_size = 64"
   ]
  },
  {
   "cell_type": "markdown",
   "metadata": {},
   "source": [
    "# Initialize model"
   ]
  },
  {
   "cell_type": "code",
   "execution_count": 4,
   "metadata": {
    "ExecuteTime": {
     "end_time": "2020-08-03T18:47:04.628738Z",
     "start_time": "2020-08-03T18:47:04.625532Z"
    }
   },
   "outputs": [],
   "source": [
    "n_channels = 16\n",
    "n_epochs = 10000\n",
    "lr = 0.001 # learning rate\n",
    "pool_size = 1024 # number of states to store in the pool\n",
    "batch_size = 16\n",
    "hidden_size = 64 # size of the hidden layer in the perception network\n",
    "\n",
    "model = models.Automata((64, 64), n_channels, hidden_size, device).to(device)"
   ]
  },
  {
   "cell_type": "markdown",
   "metadata": {},
   "source": [
    "# Initialize pool"
   ]
  },
  {
   "cell_type": "code",
   "execution_count": 5,
   "metadata": {
    "ExecuteTime": {
     "end_time": "2020-08-03T18:47:04.637886Z",
     "start_time": "2020-08-03T18:47:04.630002Z"
    }
   },
   "outputs": [],
   "source": [
    "images = torch.stack([image_1, image_2])\n",
    "\n",
    "# initialize pool with seeds\n",
    "seed = torch.zeros(n_channels, img_size, img_size).to(device)\n",
    "seed[3:, 32, 32] = 1\n",
    "\n",
    "seed_1 = seed.clone()\n",
    "seed_2 = seed.clone()\n",
    "\n",
    "# flip the 5th value in the first seed\n",
    "seed_1[4, 32, 32] = 0\n",
    "\n",
    "seeds = torch.stack([seed_1, seed_2])\n",
    "\n",
    "pool_initials = seeds.repeat(pool_size//2, 1, 1, 1)\n",
    "pool_targets = images.repeat(pool_size//2, 1, 1, 1)\n",
    "\n",
    "pool_target_ids = torch.Tensor([0, 1]).repeat(pool_size//2).long()\n",
    "# 0 for image_1, 1 for image_2\n",
    "# half image 1, half image 2"
   ]
  },
  {
   "cell_type": "markdown",
   "metadata": {},
   "source": [
    "# Train model"
   ]
  },
  {
   "cell_type": "code",
   "execution_count": 6,
   "metadata": {
    "ExecuteTime": {
     "end_time": "2020-08-03T21:22:43.570696Z",
     "start_time": "2020-08-03T18:47:04.639101Z"
    }
   },
   "outputs": [
    {
     "name": "stdout",
     "output_type": "stream",
     "text": [
      "0 -1.144116765595038\n",
      "100 -1.4831160112259614\n",
      "200 -1.7901544347366016\n",
      "300 -1.9444793846446347\n",
      "400 -2.0491088881981794\n",
      "500 -1.9946525868440028\n",
      "600 -2.043815735103039\n",
      "700 -2.1674961968999105\n",
      "800 -2.300485972427117\n",
      "900 -2.1494640824064635\n",
      "1000 -2.3306054648412147\n",
      "1100 -2.0804221720647114\n",
      "1200 -2.1987734004994586\n",
      "1300 -2.2551371725076454\n",
      "1400 -2.323478997566403\n",
      "1500 -2.383858796717439\n",
      "1600 -2.4184405312072403\n",
      "1700 -2.405593490889884\n",
      "1800 -2.2822055259013734\n",
      "1900 -2.4830050734916074\n",
      "2000 -2.435795461407368\n",
      "2100 -2.3674377308176604\n",
      "2200 -2.454759643470266\n",
      "2300 -2.5033289636480336\n",
      "2400 -2.5075628275659443\n",
      "2500 -2.553826969343856\n",
      "2600 -2.559447528955689\n",
      "2700 -2.4678428736131073\n",
      "2800 -2.6222313351593645\n",
      "2900 -2.5467109678229125\n",
      "3000 -2.5701593559157736\n",
      "3100 -2.5177219043619536\n",
      "3200 -2.6295081616055627\n",
      "3300 -2.285519032021192\n",
      "3400 -2.4558460012467913\n",
      "3500 -2.605491725605367\n",
      "3600 -2.6602606922394703\n",
      "3700 -2.6777601607677473\n",
      "3800 -2.6857286285683575\n",
      "3900 -2.6748926667445403\n",
      "4000 -2.7344278246229585\n",
      "4100 -2.675362007146739\n",
      "4200 -2.6513826059036796\n",
      "4300 -2.720425166772271\n",
      "4400 -2.7567072842616027\n",
      "4500 -2.700511820147735\n",
      "4600 -2.6210611356259763\n",
      "4700 -2.8500599611004356\n",
      "4800 -2.7803255436021757\n",
      "4900 -2.784710809593113\n",
      "5000 -2.7523878838975953\n",
      "5100 -2.8633571741359587\n",
      "5200 -2.8800262017181506\n",
      "5300 -2.7735858594835325\n",
      "5400 -2.910124959521135\n",
      "5500 -2.725140949440581\n",
      "5600 -2.859172648574617\n",
      "5700 -2.9405352850239717\n",
      "5800 -2.9974853633949374\n",
      "5900 -3.025310735696573\n",
      "6000 -2.718960678817078\n",
      "6100 -2.9471179330634163\n",
      "6200 -3.00279477827786\n",
      "6300 -2.8934999020680943\n",
      "6400 -2.7785889534506403\n",
      "6500 -2.9657950392239205\n",
      "6600 -2.934937913500796\n",
      "6700 -3.0499381579041076\n",
      "6800 -2.9793744004357\n",
      "6900 -2.9659169731445605\n",
      "7000 -2.8066784936996405\n",
      "7100 -3.0377919093111423\n",
      "7200 -2.9445744370858202\n",
      "7300 -2.968270134724112\n",
      "7400 -3.031949524241863\n",
      "7500 -3.0684463001821918\n",
      "7600 -2.993371982029936\n",
      "7700 -3.067634720001335\n",
      "7800 -3.111149142254198\n",
      "7900 -3.077239826143361\n",
      "8000 -3.0116184646727664\n",
      "8100 -3.046651449661569\n",
      "8200 -3.0819093294728153\n",
      "8300 -2.9105211272018443\n",
      "8400 -2.9879401394654703\n",
      "8500 -3.1886870815218273\n",
      "8600 -3.159252296423495\n",
      "8700 -3.082451386858127\n",
      "8800 -3.1788891922110327\n",
      "8900 -2.9924233210703006\n",
      "9000 -3.202946840671239\n",
      "9100 -3.101221307343877\n",
      "9200 -3.0768901926600414\n",
      "9300 -3.205042147166057\n",
      "9400 -3.2621051327711164\n",
      "9500 -3.12299939714073\n",
      "9600 -3.1408498646191605\n",
      "9700 -3.20898776614809\n",
      "9800 -3.219858802998107\n",
      "9900 -3.2230495516495656\n"
     ]
    }
   ],
   "source": [
    "losses = []\n",
    "\n",
    "criterion = nn.MSELoss(reduction='none')\n",
    "optimizer = torch.optim.Adam(model.parameters(), lr=lr)\n",
    "\n",
    "for i in range(n_epochs):\n",
    "\n",
    "    iterations = random.randint(96, 128)\n",
    "\n",
    "    # indices to select from the pool\n",
    "    pool_indices = torch.Tensor(random.sample(\n",
    "        range(pool_size), batch_size)).long()\n",
    "\n",
    "    initial_states = pool_initials[pool_indices]\n",
    "    targets = pool_targets[pool_indices]\n",
    "    \n",
    "    # the target types (image_1 or image_2)\n",
    "    target_ids = pool_target_ids[pool_indices]\n",
    "\n",
    "    out = model(initial_states, iterations)\n",
    "\n",
    "    # first four channels, to match the target images\n",
    "    phenotypes = out[:, :4].squeeze()\n",
    "\n",
    "    optimizer.zero_grad()\n",
    "\n",
    "    loss = criterion(phenotypes, targets)\n",
    "\n",
    "    # first calculate loss per seed so we can \n",
    "    # sort later\n",
    "    per_sample_loss = loss.mean((1, 2, 3))\n",
    "    total_loss = per_sample_loss.mean()\n",
    "\n",
    "    total_loss.backward()\n",
    "    optimizer.step()\n",
    "\n",
    "    # argsort the losses per sample\n",
    "    ranked_loss = per_sample_loss.argsort()\n",
    "\n",
    "    # get indices of min- and max-loss samples\n",
    "    min_loss_indices = ranked_loss[:1]\n",
    "    max_loss_indices = ranked_loss[1:]\n",
    "\n",
    "    replacements = out.detach()\n",
    "\n",
    "    max_loss_targets = target_ids[max_loss_indices]\n",
    "\n",
    "    # high-loss outputs are re-tasked with\n",
    "    # mapping the seeds to the respective image\n",
    "\n",
    "    # low-loss outputs are tasked with mapping\n",
    "    # the previous output to the same image\n",
    "    replacements[max_loss_indices] = seeds[max_loss_targets]\n",
    "    pool_initials[pool_indices] = replacements\n",
    "\n",
    "    # logging and checkpointing\n",
    "    if i % 100 == 0:\n",
    "\n",
    "        print(i, np.log10(float(total_loss.cpu().detach())))\n",
    "\n",
    "        torch.save(model.state_dict(), \"../models/divergence_\"+str(i))\n",
    "\n",
    "    losses.append(float(total_loss))"
   ]
  },
  {
   "cell_type": "code",
   "execution_count": 7,
   "metadata": {
    "ExecuteTime": {
     "end_time": "2020-08-03T21:22:43.658781Z",
     "start_time": "2020-08-03T21:22:43.571900Z"
    }
   },
   "outputs": [
    {
     "data": {
      "text/plain": [
       "[<matplotlib.lines.Line2D at 0x7f837e301a10>]"
      ]
     },
     "execution_count": 7,
     "metadata": {},
     "output_type": "execute_result"
    },
    {
     "data": {
      "image/png": "[encoded data removed]",
      "text/plain": [
       "<Figure size 432x288 with 1 Axes>"
      ]
     },
     "metadata": {
      "needs_background": "light"
     },
     "output_type": "display_data"
    }
   ],
   "source": [
    "plt.plot(np.log10(losses))"
   ]
  },
  {
   "cell_type": "markdown",
   "metadata": {},
   "source": [
    "# Load model checkpoint"
   ]
  },
  {
   "cell_type": "code",
   "execution_count": 8,
   "metadata": {
    "ExecuteTime": {
     "end_time": "2020-08-03T21:22:43.663514Z",
     "start_time": "2020-08-03T21:22:43.659777Z"
    }
   },
   "outputs": [
    {
     "data": {
      "text/plain": [
       "<All keys matched successfully>"
      ]
     },
     "execution_count": 8,
     "metadata": {},
     "output_type": "execute_result"
    }
   ],
   "source": [
    "model.load_state_dict(\n",
    "    torch.load(\"../models/divergence_9900\", map_location=torch.device(\"cpu\"))\n",
    ")"
   ]
  },
  {
   "cell_type": "code",
   "execution_count": 9,
   "metadata": {
    "ExecuteTime": {
     "end_time": "2020-08-03T21:22:43.666731Z",
     "start_time": "2020-08-03T21:22:43.664556Z"
    }
   },
   "outputs": [],
   "source": [
    "seed_mix = seed.clone()\n",
    "seed_mix[4, 32, 32] = 0.5"
   ]
  },
  {
   "cell_type": "markdown",
   "metadata": {},
   "source": [
    "# Make videos"
   ]
  },
  {
   "cell_type": "code",
   "execution_count": 10,
   "metadata": {
    "ExecuteTime": {
     "end_time": "2020-08-03T21:22:48.281243Z",
     "start_time": "2020-08-03T21:22:43.668571Z"
    }
   },
   "outputs": [
    {
     "name": "stderr",
     "output_type": "stream",
     "text": [
      "/home/khu/.cache/pypoetry/virtualenvs/neural-automata-mPApKxAd-py3.7/lib/python3.7/site-packages/torch/utils/checkpoint.py:25: UserWarning: None of the inputs have requires_grad=True. Gradients will be None\n",
      "  warnings.warn(\"None of the inputs have requires_grad=True. Gradients will be None\")\n"
     ]
    }
   ],
   "source": [
    "video = utils.get_model_history(model, seed_1, 128)\n",
    "utils.channels_to_gif(\"../videos/divergence_seed_1_channels.gif\", video)\n",
    "utils.colors_to_gif(\"../videos/divergence_seed_1_colors.gif\", video)\n",
    "\n",
    "video = utils.get_model_history(model, seed_2, 128)\n",
    "utils.channels_to_gif(\"../videos/divergence_seed_2_channels.gif\", video)\n",
    "utils.colors_to_gif(\"../videos/divergence_seed_2_colors.gif\", video)\n",
    "\n",
    "video = utils.get_model_history(model, seed_mix, 128)\n",
    "utils.channels_to_gif(\"../videos/divergence_seed_mix_channels.gif\", video)\n",
    "utils.colors_to_gif(\"../videos/divergence_seed_mix_colors.gif\", video)"
   ]
  }
 ],
 "metadata": {
  "kernelspec": {
   "display_name": "Python 3",
   "language": "python",
   "name": "python3"
  },
  "language_info": {
   "codemirror_mode": {
    "name": "ipython",
    "version": 3
   },
   "file_extension": ".py",
   "mimetype": "text/x-python",
   "name": "python",
   "nbconvert_exporter": "python",
   "pygments_lexer": "ipython3",
   "version": "3.7.4"
  },
  "toc": {
   "base_numbering": 1,
   "nav_menu": {},
   "number_sections": true,
   "sideBar": true,
   "skip_h1_title": false,
   "title_cell": "Table of Contents",
   "title_sidebar": "Contents",
   "toc_cell": false,
   "toc_position": {},
   "toc_section_display": true,
   "toc_window_display": false
  }
 },
 "nbformat": 4,
 "nbformat_minor": 4
}
