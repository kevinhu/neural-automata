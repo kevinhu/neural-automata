{
 "cells": [
  {
   "cell_type": "code",
   "execution_count": 4,
   "metadata": {
    "ExecuteTime": {
     "end_time": "2020-06-06T04:59:11.536778Z",
     "start_time": "2020-06-06T04:59:11.418050Z"
    }
   },
   "outputs": [],
   "source": [
    "import torch\n",
    "from torch import nn\n",
    "\n",
    "import torch.functional as F\n",
    "import torchvision.transforms.functional as TF\n",
    "import torch.utils.checkpoint as checkpoint\n",
    "\n",
    "import matplotlib.pyplot as plt\n",
    "import matplotlib as mpl\n",
    "import seaborn as sns\n",
    "\n",
    "import numpy as np\n",
    "import random\n",
    "\n",
    "import sys\n",
    "sys.path.append(\"../includes\")\n",
    "\n",
    "import models\n",
    "import utils\n",
    "\n",
    "import imageio\n",
    "import imageio_ffmpeg\n",
    "\n",
    "use_cuda = torch.cuda.is_available()\n",
    "device = torch.device(\"cuda:0\" if use_cuda else \"cpu\")"
   ]
  },
  {
   "cell_type": "markdown",
   "metadata": {},
   "source": [
    "# Load images"
   ]
  },
  {
   "cell_type": "code",
   "execution_count": 5,
   "metadata": {
    "ExecuteTime": {
     "end_time": "2020-06-06T04:59:15.013256Z",
     "start_time": "2020-06-06T04:59:12.948228Z"
    },
    "scrolled": false
   },
   "outputs": [
    {
     "name": "stdout",
     "output_type": "stream",
     "text": [
      "1f41e\n",
      "1f98b\n"
     ]
    },
    {
     "data": {
      "image/png": "[encoded data removed]",
      "text/plain": [
       "<Figure size 432x288 with 1 Axes>"
      ]
     },
     "metadata": {
      "needs_background": "light"
     },
     "output_type": "display_data"
    },
    {
     "data": {
      "image/png": "[encoded data removed]",
      "text/plain": [
       "<Figure size 432x288 with 1 Axes>"
      ]
     },
     "metadata": {
      "needs_background": "light"
     },
     "output_type": "display_data"
    }
   ],
   "source": [
    "image_1 = utils.load_emoji(\"🐞\", 32, 16).to(device)\n",
    "image_2 = utils.load_emoji(\"🦋\", 32, 16).to(device)\n",
    "\n",
    "plt.imshow(image_1.transpose(0, 2).cpu())\n",
    "plt.show()\n",
    "plt.imshow(image_2.transpose(0, 2).cpu())\n",
    "plt.show()\n",
    "\n",
    "img_size = 64"
   ]
  },
  {
   "cell_type": "markdown",
   "metadata": {
    "ExecuteTime": {
     "end_time": "2020-06-05T22:16:17.165774Z",
     "start_time": "2020-06-05T22:16:17.163335Z"
    }
   },
   "source": [
    "# Set up model and pool"
   ]
  },
  {
   "cell_type": "markdown",
   "metadata": {},
   "source": [
    "## Hyperparameters"
   ]
  },
  {
   "cell_type": "code",
   "execution_count": 8,
   "metadata": {
    "ExecuteTime": {
     "end_time": "2020-06-06T05:00:00.477085Z",
     "start_time": "2020-06-06T05:00:00.458584Z"
    }
   },
   "outputs": [],
   "source": [
    "n_channels = 16\n",
    "n_epochs = 10000\n",
    "lr = 0.001\n",
    "pool_size = 1024\n",
    "batch_size = 16\n",
    "hidden_size = 64\n",
    "\n",
    "model = models.Automata((64, 64), n_channels, hidden_size, device).to(device)"
   ]
  },
  {
   "cell_type": "markdown",
   "metadata": {},
   "source": [
    "## Initialize pool"
   ]
  },
  {
   "cell_type": "code",
   "execution_count": 9,
   "metadata": {
    "ExecuteTime": {
     "end_time": "2020-06-06T05:00:04.099153Z",
     "start_time": "2020-06-06T05:00:04.091218Z"
    }
   },
   "outputs": [],
   "source": [
    "images = torch.stack([image_1, image_2])\n",
    "\n",
    "# initialize pool with seeds\n",
    "seed = torch.zeros(n_channels, img_size, img_size).to(device)\n",
    "seed[3:, 32, 32] = 1\n",
    "\n",
    "seed_1 = seed.clone()\n",
    "seed_2 = seed.clone()\n",
    "\n",
    "seed_1[4, 32, 32] = 0\n",
    "\n",
    "seeds = torch.stack([seed_1, seed_2])\n",
    "\n",
    "pool_initials = seeds.repeat(pool_size//2, 1, 1, 1)\n",
    "pool_targets = images.repeat(pool_size//2, 1, 1, 1)\n",
    "\n",
    "pool_target_ids = torch.Tensor([0, 1]).repeat(pool_size//2).long()\n",
    "# 0 for image_1, 1 for image_2\n",
    "# half image 1, half image 2"
   ]
  },
  {
   "cell_type": "markdown",
   "metadata": {},
   "source": [
    "# Train model"
   ]
  },
  {
   "cell_type": "code",
   "execution_count": 10,
   "metadata": {
    "ExecuteTime": {
     "end_time": "2020-06-06T07:20:56.323756Z",
     "start_time": "2020-06-06T05:00:13.034136Z"
    }
   },
   "outputs": [
    {
     "name": "stdout",
     "output_type": "stream",
     "text": [
      "0 -1.319054357188048\n",
      "100 -1.6611118261533007\n",
      "200 -1.6714660586068448\n",
      "300 -1.8655350979544634\n",
      "400 -2.1736268819408915\n",
      "500 -2.1439353454818852\n",
      "600 -2.1610145888425443\n",
      "700 -2.314789385689941\n",
      "800 -2.2770731153573602\n",
      "900 -2.3258022341800704\n",
      "1000 -2.412023401376395\n",
      "1100 -2.399226837708955\n",
      "1200 -2.1888243728656214\n",
      "1300 -2.339243649753174\n",
      "1400 -2.5164395161962467\n",
      "1500 -2.4726936077887203\n",
      "1600 -2.4967426381558284\n",
      "1700 -2.4563035185659436\n",
      "1800 -2.494958146570903\n",
      "1900 -2.514441446337691\n",
      "2000 -2.5060750530948295\n",
      "2100 -2.4965245956255284\n",
      "2200 -2.5955618922115913\n",
      "2300 -2.6377119316372593\n",
      "2400 -2.4513168951118183\n",
      "2500 -2.629245375597889\n",
      "2600 -2.639665758685506\n",
      "2700 -2.6928639789709994\n",
      "2800 -2.6333271256191155\n",
      "2900 -2.7262018308499623\n",
      "3000 -2.7265491208603763\n",
      "3100 -2.4725280081012317\n",
      "3200 -2.6797931276403926\n",
      "3300 -2.7181376575531693\n",
      "3400 -2.6694939559551054\n",
      "3500 -2.6130356622526105\n",
      "3600 -2.723481177541114\n",
      "3700 -2.7781627066936014\n",
      "3800 -2.6785953322016107\n",
      "3900 -2.796332288603701\n",
      "4000 -2.839740159596476\n",
      "4100 -2.8035668581101065\n",
      "4200 -2.798479485915648\n",
      "4300 -2.8804719607175713\n",
      "4400 -2.9346313491044547\n",
      "4500 -2.857030998838366\n",
      "4600 -2.7695276678687657\n",
      "4700 -2.836320735578698\n",
      "4800 -2.8710675642966983\n",
      "4900 -2.945150304479973\n",
      "5000 -2.937285596848099\n",
      "5100 -2.9172260308372944\n",
      "5200 -3.02183579378475\n",
      "5300 -2.8771780459899254\n",
      "5400 -2.9728320773194072\n",
      "5500 -2.89800345793496\n",
      "5600 -3.03456803269022\n",
      "5700 -2.9558150027359895\n",
      "5800 -3.027750144046738\n",
      "5900 -3.0381445492432997\n",
      "6000 -2.9927610063657997\n",
      "6100 -3.0673878717392338\n",
      "6200 -3.0037449227041484\n",
      "6300 -2.994340335487534\n",
      "6400 -2.9421278726422733\n",
      "6500 -2.920249396309937\n",
      "6600 -3.131371924233889\n",
      "6700 -3.084280048200383\n",
      "6800 -3.1568307990581803\n",
      "6900 -3.1059228159753713\n",
      "7000 -3.0936953371036173\n",
      "7100 -3.1396016118551917\n",
      "7200 -3.114408678924466\n",
      "7300 -3.152458183574449\n",
      "7400 -3.2029305848760963\n",
      "7500 -3.1673851891940235\n",
      "7600 -3.1618833700130144\n",
      "7700 -3.1719965786992543\n",
      "7800 -3.1580435339507145\n",
      "7900 -3.139551725616429\n",
      "8000 -3.1139015849797627\n",
      "8100 -3.1661822218013653\n",
      "8200 -3.219658629957537\n",
      "8300 -3.1459593643231414\n",
      "8400 -3.0993936904702934\n",
      "8500 -3.244366714300794\n",
      "8600 -3.1870664581223735\n",
      "8700 -3.185431286663914\n",
      "8800 -3.1948251415396194\n",
      "8900 -3.028361792296184\n",
      "9000 -3.1255737401229235\n",
      "9100 -3.149605355728927\n",
      "9200 -3.1424014440046806\n",
      "9300 -3.089364213869069\n",
      "9400 -3.162197585765436\n",
      "9500 -3.2373513121330015\n",
      "9600 -3.2768020138964715\n",
      "9700 -3.3222611335298358\n",
      "9800 -3.2812868280183527\n",
      "9900 -3.314678598548895\n"
     ]
    }
   ],
   "source": [
    "losses = []\n",
    "\n",
    "criterion = nn.MSELoss(reduction='none')\n",
    "optimizer = torch.optim.Adam(model.parameters(), lr=lr)\n",
    "\n",
    "for i in range(n_epochs):\n",
    "\n",
    "    iterations = random.randint(96, 128)\n",
    "\n",
    "    pool_indices = torch.Tensor(random.sample(\n",
    "        range(pool_size), batch_size)).long()\n",
    "\n",
    "    initial_states = pool_initials[pool_indices]\n",
    "    targets = pool_targets[pool_indices]\n",
    "    target_ids = pool_target_ids[pool_indices]\n",
    "\n",
    "    out = model(initial_states, iterations)\n",
    "\n",
    "    phenotypes = out[:, :4].squeeze()\n",
    "\n",
    "    optimizer.zero_grad()\n",
    "\n",
    "    loss = criterion(phenotypes, targets)\n",
    "\n",
    "    per_sample_loss = loss.mean((1, 2, 3))\n",
    "    total_loss = per_sample_loss.mean()\n",
    "\n",
    "    total_loss.backward()\n",
    "    optimizer.step()\n",
    "\n",
    "    # argsort the losses per sample\n",
    "    ranked_loss = per_sample_loss.argsort()\n",
    "\n",
    "    # get indices of min- and max-loss samples\n",
    "    min_loss_indices = ranked_loss[:1]\n",
    "    max_loss_indices = ranked_loss[1:]\n",
    "\n",
    "    replacements = out.detach()\n",
    "\n",
    "    max_loss_targets = target_ids[max_loss_indices]\n",
    "\n",
    "    # high-loss outputs are re-tasked with\n",
    "    # mapping the seeds to the respective image\n",
    "\n",
    "    # low-loss outputs are tasked with mapping\n",
    "    # the previous output to the same image\n",
    "\n",
    "    replacements[max_loss_indices] = seeds[max_loss_targets]\n",
    "    pool_initials[pool_indices] = replacements\n",
    "\n",
    "    if i % 100 == 0:\n",
    "\n",
    "        print(i, np.log10(float(total_loss.cpu().detach())))\n",
    "\n",
    "        torch.save(model.state_dict(), \"../models/divergence_\"+str(i))\n",
    "\n",
    "    losses.append(float(total_loss))"
   ]
  },
  {
   "cell_type": "code",
   "execution_count": 12,
   "metadata": {
    "ExecuteTime": {
     "end_time": "2020-06-06T16:53:52.540860Z",
     "start_time": "2020-06-06T16:53:52.449813Z"
    }
   },
   "outputs": [
    {
     "data": {
      "text/plain": [
       "[<matplotlib.lines.Line2D at 0x7f19c24fbf90>]"
      ]
     },
     "execution_count": 12,
     "metadata": {},
     "output_type": "execute_result"
    },
    {
     "data": {
      "image/png": "[encoded data removed]",
      "text/plain": [
       "<Figure size 432x288 with 1 Axes>"
      ]
     },
     "metadata": {
      "needs_background": "light"
     },
     "output_type": "display_data"
    }
   ],
   "source": [
    "plt.plot(np.log10(losses))"
   ]
  },
  {
   "cell_type": "markdown",
   "metadata": {},
   "source": [
    "# Load model checkpoint"
   ]
  },
  {
   "cell_type": "code",
   "execution_count": null,
   "metadata": {
    "ExecuteTime": {
     "end_time": "2020-06-06T04:35:36.225131Z",
     "start_time": "2020-06-06T04:35:36.219299Z"
    }
   },
   "outputs": [],
   "source": [
    "model.load_state_dict(torch.load(\n",
    "    \"../models/divergence_10000\", map_location=torch.device('cpu')))"
   ]
  },
  {
   "cell_type": "code",
   "execution_count": null,
   "metadata": {
    "ExecuteTime": {
     "end_time": "2020-06-06T04:35:37.295845Z",
     "start_time": "2020-06-06T04:35:37.292627Z"
    }
   },
   "outputs": [],
   "source": [
    "seed_mix = seed.clone()\n",
    "seed_mix[4, 32, 32] = 0.5"
   ]
  },
  {
   "cell_type": "code",
   "execution_count": null,
   "metadata": {
    "ExecuteTime": {
     "end_time": "2020-06-06T04:35:47.444433Z",
     "start_time": "2020-06-06T04:35:38.268495Z"
    }
   },
   "outputs": [],
   "source": [
    "video = utils.get_model_history(model, seed_1, 128)\n",
    "utils.channels_to_gif(\"../videos/divergence_seed_1_channels.gif\", video)\n",
    "utils.colors_to_gif(\"../videos/divergence_seed_1_colors.gif\", video)\n",
    "\n",
    "video = utils.get_model_history(model, seed_2, 128)\n",
    "utils.channels_to_gif(\"../videos/divergence_seed_2_channels.gif\", video)\n",
    "utils.colors_to_gif(\"../videos/divergence_seed_2_colors.gif\", video)\n",
    "\n",
    "video = utils.get_model_history(model, seed_mix, 128)\n",
    "utils.channels_to_gif(\"../videos/divergence_seed_mix_channels.gif\", video)\n",
    "utils.colors_to_gif(\"../videos/divergence_seed_mix_colors.gif\", video)"
   ]
  }
 ],
 "metadata": {
  "kernelspec": {
   "display_name": "Python 3",
   "language": "python",
   "name": "python3"
  },
  "language_info": {
   "codemirror_mode": {
    "name": "ipython",
    "version": 3
   },
   "file_extension": ".py",
   "mimetype": "text/x-python",
   "name": "python",
   "nbconvert_exporter": "python",
   "pygments_lexer": "ipython3",
   "version": "3.7.7"
  },
  "toc": {
   "base_numbering": 1,
   "nav_menu": {},
   "number_sections": true,
   "sideBar": true,
   "skip_h1_title": false,
   "title_cell": "Table of Contents",
   "title_sidebar": "Contents",
   "toc_cell": false,
   "toc_position": {},
   "toc_section_display": true,
   "toc_window_display": false
  }
 },
 "nbformat": 4,
 "nbformat_minor": 4
}
