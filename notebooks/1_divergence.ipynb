{
 "cells": [
  {
   "cell_type": "code",
   "execution_count": 1,
   "metadata": {
    "ExecuteTime": {
     "end_time": "2020-06-06T04:34:50.807240Z",
     "start_time": "2020-06-06T04:34:48.660603Z"
    }
   },
   "outputs": [
    {
     "ename": "IndentationError",
     "evalue": "unindent does not match any outer indentation level (utils.py, line 33)",
     "output_type": "error",
     "traceback": [
      "Traceback \u001b[0;36m(most recent call last)\u001b[0m:\n",
      "  File \u001b[1;32m\"/Users/khu/anaconda3/envs/default/lib/python3.7/site-packages/IPython/core/interactiveshell.py\"\u001b[0m, line \u001b[1;32m3331\u001b[0m, in \u001b[1;35mrun_code\u001b[0m\n    exec(code_obj, self.user_global_ns, self.user_ns)\n",
      "\u001b[0;36m  File \u001b[0;32m\"<ipython-input-1-db997eb79790>\"\u001b[0;36m, line \u001b[0;32m16\u001b[0;36m, in \u001b[0;35m<module>\u001b[0;36m\u001b[0m\n\u001b[0;31m    import utils\u001b[0m\n",
      "\u001b[0;36m  File \u001b[0;32m\"/Users/khu/Desktop/github/neural-automata/notebooks/utils.py\"\u001b[0;36m, line \u001b[0;32m33\u001b[0m\n\u001b[0;31m    r = requests.get(url)\u001b[0m\n\u001b[0m                         ^\u001b[0m\n\u001b[0;31mIndentationError\u001b[0m\u001b[0;31m:\u001b[0m unindent does not match any outer indentation level\n"
     ]
    }
   ],
   "source": [
    "import torch\n",
    "from torch import nn\n",
    "\n",
    "import torch.functional as F\n",
    "import torchvision.transforms.functional as TF\n",
    "import torch.utils.checkpoint as checkpoint\n",
    "\n",
    "import matplotlib.pyplot as plt\n",
    "import matplotlib as mpl\n",
    "import seaborn as sns\n",
    "\n",
    "import numpy as np\n",
    "import random\n",
    "\n",
    "import models\n",
    "import utils\n",
    "\n",
    "import imageio\n",
    "import imageio_ffmpeg\n",
    "\n",
    "use_cuda = torch.cuda.is_available()\n",
    "device = torch.device(\"cuda:0\" if use_cuda else \"cpu\")"
   ]
  },
  {
   "cell_type": "markdown",
   "metadata": {},
   "source": [
    "# Load images"
   ]
  },
  {
   "cell_type": "code",
   "execution_count": null,
   "metadata": {
    "ExecuteTime": {
     "end_time": "2020-06-06T04:34:50.810962Z",
     "start_time": "2020-06-06T04:34:48.994Z"
    },
    "scrolled": false
   },
   "outputs": [],
   "source": [
    "image_1 = utils.load_emoji(\"🐞\",32,16).to(device)\n",
    "image_2 = utils.load_emoji(\"🦋\",32,16).to(device)\n",
    "\n",
    "plt.imshow(image_1.transpose(0,2).cpu())\n",
    "plt.show()\n",
    "plt.imshow(image_2.transpose(0,2).cpu())\n",
    "plt.show()\n",
    "\n",
    "img_size = 64"
   ]
  },
  {
   "cell_type": "markdown",
   "metadata": {
    "ExecuteTime": {
     "end_time": "2020-06-05T22:16:17.165774Z",
     "start_time": "2020-06-05T22:16:17.163335Z"
    }
   },
   "source": [
    "# Set up model and pool"
   ]
  },
  {
   "cell_type": "markdown",
   "metadata": {},
   "source": [
    "## Hyperparameters"
   ]
  },
  {
   "cell_type": "code",
   "execution_count": 2,
   "metadata": {
    "ExecuteTime": {
     "end_time": "2020-06-06T04:34:52.249117Z",
     "start_time": "2020-06-06T04:34:52.016041Z"
    }
   },
   "outputs": [
    {
     "ename": "NameError",
     "evalue": "name 'device' is not defined",
     "output_type": "error",
     "traceback": [
      "\u001b[0;31m---------------------------------------------------------------------------\u001b[0m",
      "\u001b[0;31mNameError\u001b[0m                                 Traceback (most recent call last)",
      "\u001b[0;32m<ipython-input-2-b82cfd15443b>\u001b[0m in \u001b[0;36m<module>\u001b[0;34m\u001b[0m\n\u001b[1;32m      6\u001b[0m \u001b[0mhidden_size\u001b[0m \u001b[0;34m=\u001b[0m \u001b[0;36m128\u001b[0m\u001b[0;34m\u001b[0m\u001b[0;34m\u001b[0m\u001b[0m\n\u001b[1;32m      7\u001b[0m \u001b[0;34m\u001b[0m\u001b[0m\n\u001b[0;32m----> 8\u001b[0;31m \u001b[0mmodel\u001b[0m \u001b[0;34m=\u001b[0m \u001b[0mmodels\u001b[0m\u001b[0;34m.\u001b[0m\u001b[0mAutomata\u001b[0m\u001b[0;34m(\u001b[0m\u001b[0;34m(\u001b[0m\u001b[0;36m64\u001b[0m\u001b[0;34m,\u001b[0m \u001b[0;36m64\u001b[0m\u001b[0;34m)\u001b[0m\u001b[0;34m,\u001b[0m \u001b[0mn_channels\u001b[0m\u001b[0;34m,\u001b[0m \u001b[0mhidden_size\u001b[0m\u001b[0;34m,\u001b[0m \u001b[0mdevice\u001b[0m\u001b[0;34m)\u001b[0m\u001b[0;34m.\u001b[0m\u001b[0mto\u001b[0m\u001b[0;34m(\u001b[0m\u001b[0mdevice\u001b[0m\u001b[0;34m)\u001b[0m\u001b[0;34m\u001b[0m\u001b[0;34m\u001b[0m\u001b[0m\n\u001b[0m",
      "\u001b[0;31mNameError\u001b[0m: name 'device' is not defined"
     ]
    }
   ],
   "source": [
    "n_channels = 16\n",
    "n_epochs = 5000\n",
    "lr = 0.001\n",
    "pool_size = 1024\n",
    "batch_size = 16\n",
    "hidden_size = 128\n",
    "\n",
    "model = models.Automata((64, 64), n_channels, hidden_size, device).to(device)"
   ]
  },
  {
   "cell_type": "markdown",
   "metadata": {},
   "source": [
    "## Initialize pool"
   ]
  },
  {
   "cell_type": "code",
   "execution_count": 6,
   "metadata": {
    "ExecuteTime": {
     "end_time": "2020-06-06T04:13:06.035536Z",
     "start_time": "2020-06-06T04:13:05.881837Z"
    }
   },
   "outputs": [],
   "source": [
    "images = torch.stack([image_1,image_2])\n",
    "\n",
    "# initialize pool with seeds\n",
    "seed = torch.zeros(n_channels,img_size,img_size).to(device)\n",
    "seed[3:,32,32] = 1\n",
    "\n",
    "seed_1 = seed.clone()\n",
    "seed_2 = seed.clone()\n",
    "\n",
    "seed_1[4,32,32] = 0\n",
    "\n",
    "seeds = torch.stack([seed_1,seed_2])\n",
    "\n",
    "pool_initials = seeds.repeat(pool_size//2,1,1,1)\n",
    "pool_targets = images.repeat(pool_size//2,1,1,1)\n",
    "\n",
    "pool_target_ids = torch.Tensor([0,1]).repeat(pool_size//2).long()\n",
    "# 0 for image_1, 1 for image_2\n",
    "# half image 1, half image 2"
   ]
  },
  {
   "cell_type": "markdown",
   "metadata": {},
   "source": [
    "# Train model"
   ]
  },
  {
   "cell_type": "code",
   "execution_count": null,
   "metadata": {
    "ExecuteTime": {
     "end_time": "2020-06-02T00:23:31.121010Z",
     "start_time": "2020-06-01T22:56:47.705251Z"
    }
   },
   "outputs": [],
   "source": [
    "losses = []\n",
    "\n",
    "criterion = nn.MSELoss(reduction='none')\n",
    "optimizer = torch.optim.Adam(model.parameters(), lr=lr)\n",
    "\n",
    "for i in range(n_epochs):\n",
    "    \n",
    "    iterations = random.randint(96,128)\n",
    "\n",
    "    pool_indices = torch.Tensor(random.sample(range(pool_size),batch_size)).long()\n",
    "        \n",
    "    initial_states = pool_initials[pool_indices]\n",
    "    targets = pool_targets[pool_indices]\n",
    "    target_ids = pool_target_ids[pool_indices]\n",
    "\n",
    "    out = model(initial_states,iterations)\n",
    "    \n",
    "    phenotypes = out[:,:4].squeeze()\n",
    "\n",
    "    optimizer.zero_grad()\n",
    "\n",
    "    loss = criterion(phenotypes, targets)\n",
    "    \n",
    "    per_sample_loss = loss.mean((1,2,3))\n",
    "    total_loss = per_sample_loss.mean()\n",
    "\n",
    "    total_loss.backward()\n",
    "    optimizer.step()\n",
    "    \n",
    "    # argsort the losses per sample\n",
    "    ranked_loss = per_sample_loss.argsort()\n",
    "    \n",
    "    # get indices of min- and max-loss samples\n",
    "    min_loss_indices = ranked_loss[:1]\n",
    "    max_loss_indices = ranked_loss[1:]\n",
    "    \n",
    "    replacements = out.detach()\n",
    "    \n",
    "    max_loss_targets = target_ids[max_loss_indices]\n",
    "    \n",
    "    # high-loss outputs are re-tasked with\n",
    "    # mapping the seeds to the respective image\n",
    "    \n",
    "    # low-loss outputs are tasked with mapping\n",
    "    # the previous output to the same image\n",
    "    \n",
    "    replacements[max_loss_indices] = seeds[max_loss_targets]\n",
    "    pool_initials[pool_indices] = replacements\n",
    "    \n",
    "    if i % 100 == 0:\n",
    "    \n",
    "        print(i, np.log10(float(total_loss.cpu().detach())))\n",
    "        \n",
    "        torch.save(model.state_dict(), \"../models/divergence_\"+str(i))\n",
    "        \n",
    "        \n",
    "    losses.append(float(total_loss))"
   ]
  },
  {
   "cell_type": "markdown",
   "metadata": {},
   "source": [
    "# Load model checkpoint"
   ]
  },
  {
   "cell_type": "code",
   "execution_count": 7,
   "metadata": {
    "ExecuteTime": {
     "end_time": "2020-06-06T04:13:09.875779Z",
     "start_time": "2020-06-06T04:13:09.868488Z"
    }
   },
   "outputs": [
    {
     "data": {
      "text/plain": [
       "<All keys matched successfully>"
      ]
     },
     "execution_count": 7,
     "metadata": {},
     "output_type": "execute_result"
    }
   ],
   "source": [
    "model.load_state_dict(torch.load(\"../models/divergence_10000\",map_location=torch.device('cpu')))"
   ]
  },
  {
   "cell_type": "code",
   "execution_count": 8,
   "metadata": {
    "ExecuteTime": {
     "end_time": "2020-06-06T04:13:10.976097Z",
     "start_time": "2020-06-06T04:13:10.973235Z"
    }
   },
   "outputs": [],
   "source": [
    "seed_mix = seed.clone()\n",
    "seed_mix[4,32,32] = 0.5"
   ]
  },
  {
   "cell_type": "code",
   "execution_count": 11,
   "metadata": {
    "ExecuteTime": {
     "end_time": "2020-06-06T04:14:20.334935Z",
     "start_time": "2020-06-06T04:14:10.795092Z"
    }
   },
   "outputs": [],
   "source": [
    "video = utils.get_model_history(model, seed_1, 128)\n",
    "utils.channels_to_gif(\"../videos/divergence_seed_1_channels.gif\", video)\n",
    "utils.colors_to_gif(\"../videos/divergence_seed_1_colors.gif\", video)\n",
    "\n",
    "video = utils.get_model_history(model, seed_2, 128)\n",
    "utils.channels_to_gif(\"../videos/divergence_seed_2_channels.gif\", video)\n",
    "utils.colors_to_gif(\"../videos/divergence_seed_2_colors.gif\",video)\n",
    "\n",
    "video = utils.get_model_history(model, seed_mix, 128)\n",
    "utils.channels_to_gif(\"../videos/divergence_seed_mix_channels.gif\", video)\n",
    "utils.colors_to_gif(\"../videos/divergence_seed_mix_colors.gif\", video)"
   ]
  }
 ],
 "metadata": {
  "kernelspec": {
   "display_name": "Python 3",
   "language": "python",
   "name": "python3"
  },
  "toc": {
   "base_numbering": 1,
   "nav_menu": {},
   "number_sections": true,
   "sideBar": true,
   "skip_h1_title": false,
   "title_cell": "Table of Contents",
   "title_sidebar": "Contents",
   "toc_cell": false,
   "toc_position": {},
   "toc_section_display": true,
   "toc_window_display": false
  }
 },
 "nbformat": 4,
 "nbformat_minor": 4
}
