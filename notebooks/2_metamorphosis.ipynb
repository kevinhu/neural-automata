{
 "cells": [
  {
   "cell_type": "code",
   "execution_count": 1,
   "metadata": {
    "ExecuteTime": {
     "end_time": "2020-08-03T22:19:04.930840Z",
     "start_time": "2020-08-03T22:19:04.021559Z"
    }
   },
   "outputs": [],
   "source": [
    "import torch\n",
    "from torch import nn\n",
    "\n",
    "import torch.functional as F\n",
    "import torchvision.transforms.functional as TF\n",
    "import torch.utils.checkpoint as checkpoint\n",
    "\n",
    "import matplotlib.pyplot as plt\n",
    "import matplotlib as mpl\n",
    "import seaborn as sns\n",
    "\n",
    "import numpy as np\n",
    "import random\n",
    "\n",
    "import sys\n",
    "\n",
    "sys.path.append(\"../includes\")\n",
    "\n",
    "import models\n",
    "import utils\n",
    "\n",
    "from PIL import Image\n",
    "\n",
    "use_cuda = torch.cuda.is_available()\n",
    "device = torch.device(\"cuda:0\" if use_cuda else \"cpu\")"
   ]
  },
  {
   "cell_type": "markdown",
   "metadata": {},
   "source": [
    "# Load images"
   ]
  },
  {
   "cell_type": "code",
   "execution_count": 2,
   "metadata": {
    "ExecuteTime": {
     "end_time": "2020-08-03T22:19:07.307528Z",
     "start_time": "2020-08-03T22:19:04.932023Z"
    }
   },
   "outputs": [
    {
     "name": "stdout",
     "output_type": "stream",
     "text": [
      "1f41b\n",
      "1f98b\n"
     ]
    },
    {
     "data": {
      "image/png": "[encoded data removed]",
      "text/plain": [
       "<Figure size 432x288 with 1 Axes>"
      ]
     },
     "metadata": {
      "needs_background": "light"
     },
     "output_type": "display_data"
    },
    {
     "data": {
      "image/png": "[encoded data removed]",
      "text/plain": [
       "<Figure size 432x288 with 1 Axes>"
      ]
     },
     "metadata": {
      "needs_background": "light"
     },
     "output_type": "display_data"
    }
   ],
   "source": [
    "image_1 = utils.load_emoji(\"🐛\", 32, 16).to(device)\n",
    "image_2 = utils.load_emoji(\"🦋\", 32, 16).to(device)\n",
    "\n",
    "plt.imshow(image_1.transpose(0, 2).cpu())\n",
    "plt.show()\n",
    "plt.imshow(image_2.transpose(0, 2).cpu())\n",
    "plt.show()\n",
    "\n",
    "img_size = 64"
   ]
  },
  {
   "cell_type": "markdown",
   "metadata": {},
   "source": [
    "# Initialize model"
   ]
  },
  {
   "cell_type": "code",
   "execution_count": 3,
   "metadata": {
    "ExecuteTime": {
     "end_time": "2020-08-03T22:19:07.312094Z",
     "start_time": "2020-08-03T22:19:07.308613Z"
    }
   },
   "outputs": [],
   "source": [
    "n_channels = 16\n",
    "n_epochs = 10000\n",
    "lr = 0.001\n",
    "pool_size = 1024\n",
    "batch_size = 16\n",
    "hidden_size = 64\n",
    "\n",
    "images = torch.stack([image_1, image_2])\n",
    "\n",
    "model = models.Automata((64, 64), n_channels, hidden_size, device).to(device)"
   ]
  },
  {
   "cell_type": "markdown",
   "metadata": {},
   "source": [
    "# Initialize pool"
   ]
  },
  {
   "cell_type": "code",
   "execution_count": 4,
   "metadata": {
    "ExecuteTime": {
     "end_time": "2020-08-03T22:19:07.318003Z",
     "start_time": "2020-08-03T22:19:07.313280Z"
    }
   },
   "outputs": [],
   "source": [
    "# initialize pool with seeds\n",
    "seed = torch.zeros(n_channels, img_size, img_size).to(device)\n",
    "seed[3:, 32, 32] = 1\n",
    "\n",
    "pool_initials = seed[None, :].repeat(pool_size, 1, 1, 1)\n",
    "pool_targets = image_1[None, :].repeat(pool_size, 1, 1, 1)\n",
    "\n",
    "pool_target_ids = torch.zeros(pool_size).long()\n",
    "# 0 for image_1, 1 for image_2"
   ]
  },
  {
   "cell_type": "markdown",
   "metadata": {},
   "source": [
    "# Train model"
   ]
  },
  {
   "cell_type": "code",
   "execution_count": 5,
   "metadata": {
    "ExecuteTime": {
     "end_time": "2020-08-04T00:34:30.956128Z",
     "start_time": "2020-08-03T22:19:07.319116Z"
    }
   },
   "outputs": [
    {
     "name": "stdout",
     "output_type": "stream",
     "text": [
      "0 -1.4396979139287058\n",
      "100 -1.4851595659457102\n",
      "200 -1.5647921140420185\n",
      "300 -1.6790891511759751\n",
      "400 -1.6408797570143567\n",
      "500 -1.6615774935080498\n",
      "600 -1.5830846591031622\n",
      "700 -1.6026732031569764\n",
      "800 -1.6549002877300263\n",
      "900 -1.6064882439510124\n",
      "1000 -1.6149481904375977\n",
      "1100 -1.5808418624095693\n",
      "1200 -1.6435909295603957\n",
      "1300 -1.6335861483284246\n",
      "1400 -1.6692096492093795\n",
      "1500 -1.8096823742128487\n",
      "1600 -1.9434638961500421\n",
      "1700 -1.884241760214729\n",
      "1800 -2.245216406906859\n",
      "1900 -2.2452206751999433\n",
      "2000 -2.230852616184172\n",
      "2100 -2.2552795202573788\n",
      "2200 -2.336257209219039\n",
      "2300 -2.429136494417747\n",
      "2400 -2.4177166195000956\n",
      "2500 -2.4890469070489534\n",
      "2600 -2.51045262815839\n",
      "2700 -2.4985304132556463\n",
      "2800 -2.532118224341561\n",
      "2900 -2.630577052053081\n",
      "3000 -2.5691065986421364\n",
      "3100 -2.573721244387139\n",
      "3200 -2.6437714553844964\n",
      "3300 -2.6282105098508706\n",
      "3400 -2.659981957530834\n",
      "3500 -2.6644555720803513\n",
      "3600 -2.6878653637471235\n",
      "3700 -2.692188452552634\n",
      "3800 -2.695908007546095\n",
      "3900 -2.639566312751503\n",
      "4000 -2.5453864152573016\n",
      "4100 -2.8058775629280577\n",
      "4200 -2.7846548862473686\n",
      "4300 -2.766443322437839\n",
      "4400 -2.727409089231111\n",
      "4500 -2.8647156520427353\n",
      "4600 -2.8191911859486583\n",
      "4700 -2.7959730975870225\n",
      "4800 -2.8673194657742025\n",
      "4900 -2.814253407575164\n",
      "5000 -2.7962315839712395\n",
      "5100 -2.7598782161934223\n",
      "5200 -2.853740655816444\n",
      "5300 -2.8692675526474374\n",
      "5400 -2.863014630835898\n",
      "5500 -2.9380465541548526\n",
      "5600 -2.800226291197012\n",
      "5700 -2.8240871443077946\n",
      "5800 -2.818875223124735\n",
      "5900 -2.762849174441019\n",
      "6000 -2.741046252300693\n",
      "6100 -2.9806504602340227\n",
      "6200 -2.7822836123911485\n",
      "6300 -2.873645449452098\n",
      "6400 -2.9245657760127117\n",
      "6500 -3.0275774733918466\n",
      "6600 -2.890594880301426\n",
      "6700 -2.968588228828513\n",
      "6800 -2.8064907750323944\n",
      "6900 -2.91176824756156\n",
      "7000 -2.5150954129420025\n",
      "7100 -2.919608575120406\n",
      "7200 -2.933673284783351\n",
      "7300 -3.038899872361304\n",
      "7400 -2.975822609718478\n",
      "7500 -3.003051008617792\n",
      "7600 -3.04545338259762\n",
      "7700 -3.167939209198224\n",
      "7800 -3.0534960745223017\n",
      "7900 -2.9895354148200215\n",
      "8000 -3.057615536794613\n",
      "8100 -3.206336868822488\n",
      "8200 -3.072810165138753\n",
      "8300 -3.1731356686906027\n",
      "8400 -3.105553415325782\n",
      "8500 -3.130022608400715\n",
      "8600 -3.1894187014211397\n",
      "8700 -3.1001402156279734\n",
      "8800 -3.0759637672822255\n",
      "8900 -3.1318408020293456\n",
      "9000 -3.238859172618072\n",
      "9100 -3.121581979024032\n",
      "9200 -3.108769314895693\n",
      "9300 -3.1585162350385305\n",
      "9400 -2.7707776879609782\n",
      "9500 -2.9268488083408966\n",
      "9600 -3.1652897602974286\n",
      "9700 -3.118101572909749\n",
      "9800 -3.178554623017906\n",
      "9900 -3.263778015623657\n"
     ]
    }
   ],
   "source": [
    "losses = []\n",
    "\n",
    "criterion = nn.MSELoss(reduction='none')\n",
    "optimizer = torch.optim.Adam(model.parameters(), lr=lr)\n",
    "\n",
    "for i in range(n_epochs):\n",
    "\n",
    "    iterations = 100\n",
    "\n",
    "    pool_indices = torch.Tensor(random.sample(\n",
    "        range(pool_size), batch_size)).long()\n",
    "\n",
    "    initial_states = pool_initials[pool_indices]\n",
    "    targets = pool_targets[pool_indices]\n",
    "    target_ids = pool_target_ids[pool_indices]\n",
    "\n",
    "    out = model(initial_states, iterations)\n",
    "\n",
    "    phenotypes = out[:, :4].squeeze()\n",
    "\n",
    "    optimizer.zero_grad()\n",
    "\n",
    "    loss = criterion(phenotypes, targets)\n",
    "\n",
    "    per_sample_loss = loss.mean((1, 2, 3))\n",
    "    total_loss = per_sample_loss.mean()\n",
    "\n",
    "    total_loss.backward()\n",
    "    optimizer.step()\n",
    "\n",
    "    # argsort the losses per sample\n",
    "    ranked_loss = per_sample_loss.argsort()\n",
    "\n",
    "    # get indices of min- and max-loss samples\n",
    "    min_loss_indices = ranked_loss[:-batch_size//8]\n",
    "    max_loss_indices = ranked_loss[-batch_size//8:]\n",
    "\n",
    "    replacements = out.detach()\n",
    "    replacements[max_loss_indices] = seed.clone()\n",
    "\n",
    "    # high-loss outputs are re-tasked with\n",
    "    # mapping the seed to the first image,\n",
    "\n",
    "    # low-loss outputs are tasked with mapping\n",
    "    # mapping to the other image\n",
    "    pool_target_ids[pool_indices[max_loss_indices]] = 0\n",
    "    pool_target_ids[pool_indices[min_loss_indices]] = 1 - \\\n",
    "        pool_target_ids[pool_indices[min_loss_indices]]\n",
    "\n",
    "    pool_targets[pool_indices[max_loss_indices]] = images[0]\n",
    "    pool_targets[pool_indices[min_loss_indices]\n",
    "                 ] = images[pool_target_ids[pool_indices[min_loss_indices]]]\n",
    "\n",
    "    pool_initials[pool_indices] = replacements\n",
    "\n",
    "    if i % 100 == 0:\n",
    "\n",
    "        print(i, np.log10(float(total_loss.cpu().detach())))\n",
    "\n",
    "        torch.save(model.state_dict(), \"../models/metamorphosis_\"+str(i))\n",
    "\n",
    "    losses.append(float(total_loss))"
   ]
  },
  {
   "cell_type": "code",
   "execution_count": 6,
   "metadata": {
    "ExecuteTime": {
     "end_time": "2020-08-04T00:34:31.061851Z",
     "start_time": "2020-08-04T00:34:30.957548Z"
    }
   },
   "outputs": [
    {
     "data": {
      "text/plain": [
       "[<matplotlib.lines.Line2D at 0x7fe1187e80d0>]"
      ]
     },
     "execution_count": 6,
     "metadata": {},
     "output_type": "execute_result"
    },
    {
     "data": {
      "image/png": "[encoded data removed]",
      "text/plain": [
       "<Figure size 432x288 with 1 Axes>"
      ]
     },
     "metadata": {
      "needs_background": "light"
     },
     "output_type": "display_data"
    }
   ],
   "source": [
    "plt.plot(np.log10(losses))"
   ]
  },
  {
   "cell_type": "markdown",
   "metadata": {},
   "source": [
    "# Load model checkpoint"
   ]
  },
  {
   "cell_type": "code",
   "execution_count": 7,
   "metadata": {
    "ExecuteTime": {
     "end_time": "2020-08-04T00:34:31.067915Z",
     "start_time": "2020-08-04T00:34:31.063058Z"
    }
   },
   "outputs": [
    {
     "data": {
      "text/plain": [
       "<All keys matched successfully>"
      ]
     },
     "execution_count": 7,
     "metadata": {},
     "output_type": "execute_result"
    }
   ],
   "source": [
    "model.load_state_dict(\n",
    "    torch.load(\"../models/metamorphosis_9900\", map_location=torch.device(\"cpu\"))\n",
    ")"
   ]
  },
  {
   "cell_type": "markdown",
   "metadata": {},
   "source": [
    "# Make videos"
   ]
  },
  {
   "cell_type": "code",
   "execution_count": 8,
   "metadata": {
    "ExecuteTime": {
     "end_time": "2020-08-04T00:34:43.643263Z",
     "start_time": "2020-08-04T00:34:31.069203Z"
    }
   },
   "outputs": [
    {
     "name": "stderr",
     "output_type": "stream",
     "text": [
      "/home/khu/.cache/pypoetry/virtualenvs/neural-automata-mPApKxAd-py3.7/lib/python3.7/site-packages/torch/utils/checkpoint.py:25: UserWarning: None of the inputs have requires_grad=True. Gradients will be None\n",
      "  warnings.warn(\"None of the inputs have requires_grad=True. Gradients will be None\")\n"
     ]
    }
   ],
   "source": [
    "video = utils.get_model_history(model, seed, 1000)\n",
    "utils.channels_to_gif(\"../videos/metamorphosis_channels.gif\", video)\n",
    "utils.colors_to_gif(\"../videos/metamorphosis_colors.gif\", video)"
   ]
  }
 ],
 "metadata": {
  "kernelspec": {
   "display_name": "Python 3",
   "language": "python",
   "name": "python3"
  },
  "language_info": {
   "codemirror_mode": {
    "name": "ipython",
    "version": 3
   },
   "file_extension": ".py",
   "mimetype": "text/x-python",
   "name": "python",
   "nbconvert_exporter": "python",
   "pygments_lexer": "ipython3",
   "version": "3.7.4"
  },
  "toc": {
   "base_numbering": 1,
   "nav_menu": {},
   "number_sections": true,
   "sideBar": true,
   "skip_h1_title": false,
   "title_cell": "Table of Contents",
   "title_sidebar": "Contents",
   "toc_cell": false,
   "toc_position": {},
   "toc_section_display": true,
   "toc_window_display": true
  }
 },
 "nbformat": 4,
 "nbformat_minor": 4
}
