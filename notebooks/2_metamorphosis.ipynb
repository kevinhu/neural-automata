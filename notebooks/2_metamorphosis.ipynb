{
 "cells": [
  {
   "cell_type": "code",
   "execution_count": 1,
   "metadata": {
    "ExecuteTime": {
     "end_time": "2020-06-06T04:15:27.149434Z",
     "start_time": "2020-06-06T04:15:25.062792Z"
    }
   },
   "outputs": [],
   "source": [
    "import torch\n",
    "from torch import nn\n",
    "\n",
    "import torch.functional as F\n",
    "import torchvision.transforms.functional as TF\n",
    "import torch.utils.checkpoint as checkpoint\n",
    "\n",
    "import matplotlib.pyplot as plt\n",
    "import matplotlib as mpl\n",
    "import seaborn as sns\n",
    "\n",
    "import numpy as np\n",
    "import random\n",
    "\n",
    "import models\n",
    "import utils\n",
    "\n",
    "from PIL import Image\n",
    "\n",
    "use_cuda = torch.cuda.is_available()\n",
    "device = torch.device(\"cuda:0\" if use_cuda else \"cpu\")"
   ]
  },
  {
   "cell_type": "markdown",
   "metadata": {},
   "source": [
    "# Load images"
   ]
  },
  {
   "cell_type": "code",
   "execution_count": 2,
   "metadata": {
    "ExecuteTime": {
     "end_time": "2020-06-06T04:15:27.905918Z",
     "start_time": "2020-06-06T04:15:27.155468Z"
    }
   },
   "outputs": [
    {
     "name": "stdout",
     "output_type": "stream",
     "text": [
      "1f41e\n",
      "1f98b\n"
     ]
    },
    {
     "data": {
      "image/png": "[encoded data removed]",
      "text/plain": [
       "<Figure size 432x288 with 1 Axes>"
      ]
     },
     "metadata": {
      "needs_background": "light"
     },
     "output_type": "display_data"
    },
    {
     "data": {
      "image/png": "[encoded data removed]",
      "text/plain": [
       "<Figure size 432x288 with 1 Axes>"
      ]
     },
     "metadata": {
      "needs_background": "light"
     },
     "output_type": "display_data"
    }
   ],
   "source": [
    "image_1 = utils.load_emoji(\"🐞\",32,16).to(device)\n",
    "image_2 = utils.load_emoji(\"🦋\",32,16).to(device)\n",
    "\n",
    "plt.imshow(image_1.transpose(0,2).cpu())\n",
    "plt.show()\n",
    "plt.imshow(image_2.transpose(0,2).cpu())\n",
    "plt.show()\n",
    "\n",
    "img_size = 64"
   ]
  },
  {
   "cell_type": "markdown",
   "metadata": {},
   "source": [
    "# Set up model and pool"
   ]
  },
  {
   "cell_type": "markdown",
   "metadata": {},
   "source": [
    "## Hyperparameters"
   ]
  },
  {
   "cell_type": "code",
   "execution_count": 3,
   "metadata": {
    "ExecuteTime": {
     "end_time": "2020-06-06T04:15:30.282210Z",
     "start_time": "2020-06-06T04:15:30.277156Z"
    }
   },
   "outputs": [],
   "source": [
    "n_channels = 16\n",
    "n_epochs = 10000\n",
    "lr = 0.001\n",
    "pool_size = 1024\n",
    "batch_size = 16\n",
    "hidden_size = 128\n",
    "\n",
    "images = torch.stack([image_1,image_2])\n",
    "\n",
    "model = models.Automata((64, 64), n_channels, hidden_size, device).to(device)"
   ]
  },
  {
   "cell_type": "markdown",
   "metadata": {},
   "source": [
    "## Initialize pool"
   ]
  },
  {
   "cell_type": "code",
   "execution_count": 4,
   "metadata": {
    "ExecuteTime": {
     "end_time": "2020-06-06T04:15:31.156553Z",
     "start_time": "2020-06-06T04:15:31.007933Z"
    }
   },
   "outputs": [],
   "source": [
    "# initialize pool with seeds\n",
    "seed = torch.zeros(n_channels,img_size,img_size).to(device)\n",
    "seed[3:,32,32] = 1\n",
    "\n",
    "pool_initials = seed[None, :].repeat(pool_size,1,1,1)\n",
    "pool_targets = image_1[None,:].repeat(pool_size,1,1,1)\n",
    "\n",
    "pool_target_ids = torch.zeros(pool_size).long()\n",
    "# 0 for image_1, 1 for image_2"
   ]
  },
  {
   "cell_type": "markdown",
   "metadata": {},
   "source": [
    "# Train model"
   ]
  },
  {
   "cell_type": "code",
   "execution_count": null,
   "metadata": {
    "ExecuteTime": {
     "end_time": "2020-06-02T05:55:10.625605Z",
     "start_time": "2020-06-02T03:20:20.428845Z"
    }
   },
   "outputs": [],
   "source": [
    "losses = []\n",
    "\n",
    "criterion = nn.MSELoss(reduction='none')\n",
    "optimizer = torch.optim.Adam(model.parameters(), lr=lr)\n",
    "\n",
    "for i in range(n_epochs):\n",
    "    \n",
    "    iterations = 100\n",
    "\n",
    "    pool_indices = torch.Tensor(random.sample(range(pool_size),batch_size)).long()\n",
    "        \n",
    "    initial_states = pool_initials[pool_indices]\n",
    "    targets = pool_targets[pool_indices]\n",
    "    target_ids = pool_target_ids[pool_indices]\n",
    "\n",
    "    out = model(initial_states,iterations)\n",
    "    \n",
    "    phenotypes = out[:,:4].squeeze()\n",
    "\n",
    "    optimizer.zero_grad()\n",
    "\n",
    "    loss = criterion(phenotypes, targets)\n",
    "    \n",
    "    per_sample_loss = loss.mean((1,2,3))\n",
    "    total_loss = per_sample_loss.mean()\n",
    "\n",
    "    total_loss.backward()\n",
    "    optimizer.step()\n",
    "    \n",
    "    # argsort the losses per sample\n",
    "    ranked_loss = per_sample_loss.argsort()\n",
    "    \n",
    "    # get indices of min- and max-loss samples\n",
    "    min_loss_indices = ranked_loss[:-batch_size//8]\n",
    "    max_loss_indices = ranked_loss[-batch_size//8:]\n",
    "    \n",
    "    replacements = out.detach()\n",
    "    replacements[max_loss_indices] = seed.clone()\n",
    "    \n",
    "    # high-loss outputs are re-tasked with\n",
    "    # mapping the seed to the first image,\n",
    "    \n",
    "    # low-loss outputs are tasked with mapping\n",
    "    # mapping to the other image\n",
    "    pool_target_ids[pool_indices[max_loss_indices]] = 0\n",
    "    pool_target_ids[pool_indices[min_loss_indices]] = 1-pool_target_ids[pool_indices[min_loss_indices]]\n",
    "    \n",
    "    pool_targets[pool_indices[max_loss_indices]] = images[0]\n",
    "    pool_targets[pool_indices[min_loss_indices]] = images[pool_target_ids[pool_indices[min_loss_indices]]]\n",
    "\n",
    "    pool_initials[pool_indices] = replacements\n",
    "\n",
    "    if i % 100 == 0:\n",
    "    \n",
    "        print(i, np.log10(float(total_loss.cpu().detach())))\n",
    "        \n",
    "        torch.save(model.state_dict(), \"../models/metamorphosis_\"+str(i))\n",
    "        \n",
    "    losses.append(float(total_loss))"
   ]
  },
  {
   "cell_type": "code",
   "execution_count": 11,
   "metadata": {
    "ExecuteTime": {
     "end_time": "2020-06-02T17:02:57.562731Z",
     "start_time": "2020-06-02T17:02:57.470368Z"
    }
   },
   "outputs": [
    {
     "data": {
      "text/plain": [
       "[<matplotlib.lines.Line2D at 0x7f583d37e750>]"
      ]
     },
     "execution_count": 11,
     "metadata": {},
     "output_type": "execute_result"
    },
    {
     "data": {
      "image/png": "[encoded data removed]",
      "text/plain": [
       "<Figure size 432x288 with 1 Axes>"
      ]
     },
     "metadata": {
      "needs_background": "light"
     },
     "output_type": "display_data"
    }
   ],
   "source": [
    "plt.plot(np.log10(losses))"
   ]
  },
  {
   "cell_type": "markdown",
   "metadata": {},
   "source": [
    "# Load model checkpoint"
   ]
  },
  {
   "cell_type": "code",
   "execution_count": 5,
   "metadata": {
    "ExecuteTime": {
     "end_time": "2020-06-06T04:15:33.183127Z",
     "start_time": "2020-06-06T04:15:33.175970Z"
    }
   },
   "outputs": [
    {
     "data": {
      "text/plain": [
       "<All keys matched successfully>"
      ]
     },
     "execution_count": 5,
     "metadata": {},
     "output_type": "execute_result"
    }
   ],
   "source": [
    "model.load_state_dict(torch.load(\"../models/metamorphosis_9900\",map_location=torch.device('cpu')))"
   ]
  },
  {
   "cell_type": "code",
   "execution_count": 6,
   "metadata": {
    "ExecuteTime": {
     "end_time": "2020-06-06T04:15:58.601798Z",
     "start_time": "2020-06-06T04:15:33.975092Z"
    }
   },
   "outputs": [
    {
     "name": "stderr",
     "output_type": "stream",
     "text": [
      "/Users/khu/anaconda3/envs/default/lib/python3.7/site-packages/torch/utils/checkpoint.py:25: UserWarning: None of the inputs have requires_grad=True. Gradients will be None\n",
      "  warnings.warn(\"None of the inputs have requires_grad=True. Gradients will be None\")\n"
     ]
    }
   ],
   "source": [
    "video = utils.get_model_history(model, seed, 1000)\n",
    "utils.channels_to_gif(\"../metamorphosis_channels.gif\", video)\n",
    "utils.colors_to_gif(\"../metamorphosis_colors.gif\", video)"
   ]
  }
 ],
 "metadata": {
  "kernelspec": {
   "display_name": "Python 3",
   "language": "python",
   "name": "python3"
  },
  "language_info": {
   "codemirror_mode": {
    "name": "ipython",
    "version": 3
   },
   "file_extension": ".py",
   "mimetype": "text/x-python",
   "name": "python",
   "nbconvert_exporter": "python",
   "pygments_lexer": "ipython3",
   "version": "3.7.7"
  },
  "toc": {
   "base_numbering": 1,
   "nav_menu": {},
   "number_sections": true,
   "sideBar": true,
   "skip_h1_title": false,
   "title_cell": "Table of Contents",
   "title_sidebar": "Contents",
   "toc_cell": false,
   "toc_position": {},
   "toc_section_display": true,
   "toc_window_display": false
  }
 },
 "nbformat": 4,
 "nbformat_minor": 4
}
