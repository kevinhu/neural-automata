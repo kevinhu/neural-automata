{
 "cells": [
  {
   "cell_type": "code",
   "execution_count": 1,
   "metadata": {
    "ExecuteTime": {
     "end_time": "2020-06-06T05:00:34.773245Z",
     "start_time": "2020-06-06T05:00:33.986026Z"
    }
   },
   "outputs": [],
   "source": [
    "import torch\n",
    "from torch import nn\n",
    "\n",
    "import torch.functional as F\n",
    "import torchvision.transforms.functional as TF\n",
    "import torch.utils.checkpoint as checkpoint\n",
    "\n",
    "import matplotlib.pyplot as plt\n",
    "import matplotlib as mpl\n",
    "import seaborn as sns\n",
    "\n",
    "import numpy as np\n",
    "import random\n",
    "\n",
    "import sys\n",
    "sys.path.append(\"../includes\")\n",
    "\n",
    "import models\n",
    "import utils\n",
    "\n",
    "from PIL import Image\n",
    "\n",
    "use_cuda = torch.cuda.is_available()\n",
    "device = torch.device(\"cuda:0\" if use_cuda else \"cpu\")"
   ]
  },
  {
   "cell_type": "markdown",
   "metadata": {},
   "source": [
    "# Load images"
   ]
  },
  {
   "cell_type": "code",
   "execution_count": 2,
   "metadata": {
    "ExecuteTime": {
     "end_time": "2020-06-06T05:00:38.533985Z",
     "start_time": "2020-06-06T05:00:36.769075Z"
    }
   },
   "outputs": [
    {
     "name": "stdout",
     "output_type": "stream",
     "text": [
      "1f41e\n",
      "1f98b\n"
     ]
    },
    {
     "data": {
      "image/png": "[encoded data removed]",
      "text/plain": [
       "<Figure size 432x288 with 1 Axes>"
      ]
     },
     "metadata": {
      "needs_background": "light"
     },
     "output_type": "display_data"
    },
    {
     "data": {
      "image/png": "[encoded data removed]",
      "text/plain": [
       "<Figure size 432x288 with 1 Axes>"
      ]
     },
     "metadata": {
      "needs_background": "light"
     },
     "output_type": "display_data"
    }
   ],
   "source": [
    "image_1 = utils.load_emoji(\"🐞\", 32, 16).to(device)\n",
    "image_2 = utils.load_emoji(\"🦋\", 32, 16).to(device)\n",
    "\n",
    "plt.imshow(image_1.transpose(0, 2).cpu())\n",
    "plt.show()\n",
    "plt.imshow(image_2.transpose(0, 2).cpu())\n",
    "plt.show()\n",
    "\n",
    "img_size = 64"
   ]
  },
  {
   "cell_type": "markdown",
   "metadata": {},
   "source": [
    "# Set up model and pool"
   ]
  },
  {
   "cell_type": "markdown",
   "metadata": {},
   "source": [
    "## Hyperparameters"
   ]
  },
  {
   "cell_type": "code",
   "execution_count": 3,
   "metadata": {
    "ExecuteTime": {
     "end_time": "2020-06-06T05:00:41.009480Z",
     "start_time": "2020-06-06T05:00:40.998197Z"
    }
   },
   "outputs": [],
   "source": [
    "n_channels = 16\n",
    "n_epochs = 10000\n",
    "lr = 0.001\n",
    "pool_size = 1024\n",
    "batch_size = 16\n",
    "hidden_size = 64\n",
    "\n",
    "images = torch.stack([image_1, image_2])\n",
    "\n",
    "model = models.Automata((64, 64), n_channels, hidden_size, device).to(device)"
   ]
  },
  {
   "cell_type": "markdown",
   "metadata": {},
   "source": [
    "## Initialize pool"
   ]
  },
  {
   "cell_type": "code",
   "execution_count": 4,
   "metadata": {
    "ExecuteTime": {
     "end_time": "2020-06-06T05:00:46.819554Z",
     "start_time": "2020-06-06T05:00:46.815974Z"
    }
   },
   "outputs": [],
   "source": [
    "# initialize pool with seeds\n",
    "seed = torch.zeros(n_channels, img_size, img_size).to(device)\n",
    "seed[3:, 32, 32] = 1\n",
    "\n",
    "pool_initials = seed[None, :].repeat(pool_size, 1, 1, 1)\n",
    "pool_targets = image_1[None, :].repeat(pool_size, 1, 1, 1)\n",
    "\n",
    "pool_target_ids = torch.zeros(pool_size).long()\n",
    "# 0 for image_1, 1 for image_2"
   ]
  },
  {
   "cell_type": "markdown",
   "metadata": {},
   "source": [
    "# Train model"
   ]
  },
  {
   "cell_type": "code",
   "execution_count": 7,
   "metadata": {
    "ExecuteTime": {
     "end_time": "2020-06-06T11:06:49.259348Z",
     "start_time": "2020-06-06T09:01:11.190971Z"
    }
   },
   "outputs": [
    {
     "name": "stdout",
     "output_type": "stream",
     "text": [
      "0 -1.3949244423963556\n",
      "100 -1.6811285962503404\n",
      "200 -1.5470195480110867\n",
      "300 -1.6652039227467825\n",
      "400 -1.6327119325083306\n",
      "500 -1.6294357406727977\n",
      "600 -1.6398301170926541\n",
      "700 -1.6293210292633558\n",
      "800 -1.6766857140718319\n",
      "900 -1.9141908023726988\n",
      "1000 -1.85183489344183\n",
      "1100 -2.041009484693773\n",
      "1200 -2.071192465822219\n",
      "1300 -2.2173769913053434\n",
      "1400 -2.2180844076037\n",
      "1500 -2.3675918714006388\n",
      "1600 -2.375247215992874\n",
      "1700 -2.408744205955942\n",
      "1800 -2.461771505589307\n",
      "1900 -2.413572174232471\n",
      "2000 -2.442116221594497\n",
      "2100 -2.5071237901749015\n",
      "2200 -2.5089860798890413\n",
      "2300 -2.5419981583346822\n",
      "2400 -2.5215973234747127\n",
      "2500 -2.5102059878449916\n",
      "2600 -2.586075450113228\n",
      "2700 -2.5369295073349414\n",
      "2800 -2.6009642239739366\n",
      "2900 -2.461015291544993\n",
      "3000 -2.531072454520628\n",
      "3100 -2.5889307361475473\n",
      "3200 -2.5422484877294407\n",
      "3300 -2.6309842393970637\n",
      "3400 -2.6297292041276887\n",
      "3500 -2.556017882374938\n",
      "3600 -2.540164396665337\n",
      "3700 -2.6079743038253467\n",
      "3800 -2.6922705395936783\n",
      "3900 -2.580119037996274\n",
      "4000 -2.5650917817347527\n",
      "4100 -2.6937023623988585\n",
      "4200 -2.7328414442127995\n",
      "4300 -2.7510020402158224\n",
      "4400 -2.7653771857192626\n",
      "4500 -2.675542230382996\n",
      "4600 -2.6688644074738472\n",
      "4700 -2.714814042661875\n",
      "4800 -2.771017423231057\n",
      "4900 -2.793495358290026\n",
      "5000 -2.8012401651563517\n",
      "5100 -2.7880886442169186\n",
      "5200 -2.7185317314320883\n",
      "5300 -2.7359275557904374\n",
      "5400 -2.818040960358312\n",
      "5500 -2.8707692339673736\n",
      "5600 -2.7349668798507336\n",
      "5700 -2.842201243570531\n",
      "5800 -2.8136950495883046\n",
      "5900 -2.7619730932933733\n",
      "6000 -2.8371144498663607\n",
      "6100 -2.754110084738319\n",
      "6200 -2.8611648357336668\n",
      "6300 -2.850152114006148\n",
      "6400 -2.84956852285095\n",
      "6500 -2.887972327879663\n",
      "6600 -2.957082623472876\n",
      "6700 -2.9287432611448216\n",
      "6800 -2.825939391258437\n",
      "6900 -2.9434324444755284\n",
      "7000 -2.740816876392416\n",
      "7100 -2.9111419529155103\n",
      "7200 -2.965153685765182\n",
      "7300 -3.0281328559194147\n",
      "7400 -2.8701186363220015\n",
      "7500 -2.957470228937369\n",
      "7600 -2.9515751494386158\n",
      "7700 -2.931971696527079\n",
      "7800 -2.8465428042228607\n",
      "7900 -2.9513624675189516\n",
      "8000 -2.9258296097620944\n",
      "8100 -2.967584857200307\n",
      "8200 -2.9580923851817467\n",
      "8300 -2.7471919633510415\n",
      "8400 -2.772087671656674\n",
      "8500 -2.81608594685176\n",
      "8600 -2.9338786917525455\n",
      "8700 -2.9493445125172943\n",
      "8800 -2.8861396871149716\n",
      "8900 -2.884309944087646\n",
      "9000 -3.044155951538478\n",
      "9100 -3.0930856329285152\n",
      "9200 -3.0985764346921636\n",
      "9300 -3.0840210734281803\n",
      "9400 -3.0781128737466483\n",
      "9500 -2.96214654830802\n",
      "9600 -3.1110792066873647\n",
      "9700 -3.16668401809425\n",
      "9800 -3.127530972231703\n",
      "9900 -3.0683694796986942\n"
     ]
    }
   ],
   "source": [
    "losses = []\n",
    "\n",
    "criterion = nn.MSELoss(reduction='none')\n",
    "optimizer = torch.optim.Adam(model.parameters(), lr=lr)\n",
    "\n",
    "for i in range(n_epochs):\n",
    "\n",
    "    iterations = 100\n",
    "\n",
    "    pool_indices = torch.Tensor(random.sample(\n",
    "        range(pool_size), batch_size)).long()\n",
    "\n",
    "    initial_states = pool_initials[pool_indices]\n",
    "    targets = pool_targets[pool_indices]\n",
    "    target_ids = pool_target_ids[pool_indices]\n",
    "\n",
    "    out = model(initial_states, iterations)\n",
    "\n",
    "    phenotypes = out[:, :4].squeeze()\n",
    "\n",
    "    optimizer.zero_grad()\n",
    "\n",
    "    loss = criterion(phenotypes, targets)\n",
    "\n",
    "    per_sample_loss = loss.mean((1, 2, 3))\n",
    "    total_loss = per_sample_loss.mean()\n",
    "\n",
    "    total_loss.backward()\n",
    "    optimizer.step()\n",
    "\n",
    "    # argsort the losses per sample\n",
    "    ranked_loss = per_sample_loss.argsort()\n",
    "\n",
    "    # get indices of min- and max-loss samples\n",
    "    min_loss_indices = ranked_loss[:-batch_size//8]\n",
    "    max_loss_indices = ranked_loss[-batch_size//8:]\n",
    "\n",
    "    replacements = out.detach()\n",
    "    replacements[max_loss_indices] = seed.clone()\n",
    "\n",
    "    # high-loss outputs are re-tasked with\n",
    "    # mapping the seed to the first image,\n",
    "\n",
    "    # low-loss outputs are tasked with mapping\n",
    "    # mapping to the other image\n",
    "    pool_target_ids[pool_indices[max_loss_indices]] = 0\n",
    "    pool_target_ids[pool_indices[min_loss_indices]] = 1 - \\\n",
    "        pool_target_ids[pool_indices[min_loss_indices]]\n",
    "\n",
    "    pool_targets[pool_indices[max_loss_indices]] = images[0]\n",
    "    pool_targets[pool_indices[min_loss_indices]\n",
    "                 ] = images[pool_target_ids[pool_indices[min_loss_indices]]]\n",
    "\n",
    "    pool_initials[pool_indices] = replacements\n",
    "\n",
    "    if i % 100 == 0:\n",
    "\n",
    "        print(i, np.log10(float(total_loss.cpu().detach())))\n",
    "\n",
    "        torch.save(model.state_dict(), \"../models/metamorphosis_\"+str(i))\n",
    "\n",
    "    losses.append(float(total_loss))"
   ]
  },
  {
   "cell_type": "code",
   "execution_count": 8,
   "metadata": {
    "ExecuteTime": {
     "end_time": "2020-06-06T16:54:03.612822Z",
     "start_time": "2020-06-06T16:54:03.512809Z"
    }
   },
   "outputs": [
    {
     "data": {
      "text/plain": [
       "[<matplotlib.lines.Line2D at 0x7f5d61289750>]"
      ]
     },
     "execution_count": 8,
     "metadata": {},
     "output_type": "execute_result"
    },
    {
     "data": {
      "image/png": "[encoded data removed]",
      "text/plain": [
       "<Figure size 432x288 with 1 Axes>"
      ]
     },
     "metadata": {
      "needs_background": "light"
     },
     "output_type": "display_data"
    }
   ],
   "source": [
    "plt.plot(np.log10(losses))"
   ]
  },
  {
   "cell_type": "markdown",
   "metadata": {},
   "source": [
    "# Load model checkpoint"
   ]
  },
  {
   "cell_type": "code",
   "execution_count": null,
   "metadata": {
    "ExecuteTime": {
     "end_time": "2020-06-06T04:15:33.183127Z",
     "start_time": "2020-06-06T04:15:33.175970Z"
    }
   },
   "outputs": [],
   "source": [
    "model.load_state_dict(torch.load(\n",
    "    \"../models/metamorphosis_9900\", map_location=torch.device('cpu')))"
   ]
  },
  {
   "cell_type": "code",
   "execution_count": null,
   "metadata": {
    "ExecuteTime": {
     "end_time": "2020-06-06T04:15:58.601798Z",
     "start_time": "2020-06-06T04:15:33.975092Z"
    }
   },
   "outputs": [],
   "source": [
    "video = utils.get_model_history(model, seed, 1000)\n",
    "utils.channels_to_gif(\"../metamorphosis_channels.gif\", video)\n",
    "utils.colors_to_gif(\"../metamorphosis_colors.gif\", video)"
   ]
  }
 ],
 "metadata": {
  "kernelspec": {
   "display_name": "Python 3",
   "language": "python",
   "name": "python3"
  },
  "language_info": {
   "codemirror_mode": {
    "name": "ipython",
    "version": 3
   },
   "file_extension": ".py",
   "mimetype": "text/x-python",
   "name": "python",
   "nbconvert_exporter": "python",
   "pygments_lexer": "ipython3",
   "version": "3.7.7"
  },
  "toc": {
   "base_numbering": 1,
   "nav_menu": {},
   "number_sections": true,
   "sideBar": true,
   "skip_h1_title": false,
   "title_cell": "Table of Contents",
   "title_sidebar": "Contents",
   "toc_cell": false,
   "toc_position": {},
   "toc_section_display": true,
   "toc_window_display": false
  }
 },
 "nbformat": 4,
 "nbformat_minor": 4
}
