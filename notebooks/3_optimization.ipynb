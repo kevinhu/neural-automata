{
 "cells": [
  {
   "cell_type": "code",
   "execution_count": 1,
   "metadata": {
    "ExecuteTime": {
     "end_time": "2020-08-10T19:29:56.631310Z",
     "start_time": "2020-08-10T19:29:55.690010Z"
    }
   },
   "outputs": [],
   "source": [
    "import torch\n",
    "from torch import nn\n",
    "\n",
    "import torch.functional as F\n",
    "import torchvision.transforms.functional as TF\n",
    "import torch.utils.checkpoint as checkpoint\n",
    "\n",
    "from PIL import Image\n",
    "\n",
    "import matplotlib.pyplot as plt\n",
    "import matplotlib as mpl\n",
    "import seaborn as sns\n",
    "\n",
    "import numpy as np\n",
    "import random\n",
    "\n",
    "import requests\n",
    "import io\n",
    "\n",
    "import sys\n",
    "sys.path.append(\"../includes\")\n",
    "\n",
    "import utils\n",
    "\n",
    "use_cuda = torch.cuda.is_available()\n",
    "device = torch.device(\"cuda:0\" if use_cuda else \"cpu\")"
   ]
  },
  {
   "cell_type": "markdown",
   "metadata": {},
   "source": [
    "# Define neighborhood mask"
   ]
  },
  {
   "cell_type": "code",
   "execution_count": 2,
   "metadata": {
    "ExecuteTime": {
     "end_time": "2020-08-10T19:29:57.995022Z",
     "start_time": "2020-08-10T19:29:56.632387Z"
    }
   },
   "outputs": [
    {
     "data": {
      "text/plain": [
       "<matplotlib.image.AxesImage at 0x7f12f2a2a810>"
      ]
     },
     "execution_count": 2,
     "metadata": {},
     "output_type": "execute_result"
    },
    {
     "data": {
      "image/png": "[encoded data removed]",
      "text/plain": [
       "<Figure size 432x288 with 1 Axes>"
      ]
     },
     "metadata": {
      "needs_background": "light"
     },
     "output_type": "display_data"
    }
   ],
   "source": [
    "neighborhood = 25\n",
    "\n",
    "center = neighborhood // 2\n",
    "\n",
    "y, x = np.ogrid[-center : center + 1, -center : center + 1]\n",
    "mask = torch.Tensor(x * x + y * y <= (neighborhood // 2) ** 2).bool()\n",
    "\n",
    "neighborhood_kernel = torch.zeros(neighborhood, neighborhood).cuda()\n",
    "neighborhood_kernel[mask] = 1\n",
    "\n",
    "neighborhood_kernel = neighborhood_kernel[None, None, :]\n",
    "\n",
    "plt.imshow(neighborhood_kernel[0, 0].cpu())"
   ]
  },
  {
   "cell_type": "markdown",
   "metadata": {},
   "source": [
    "# Initialize model"
   ]
  },
  {
   "cell_type": "code",
   "execution_count": 3,
   "metadata": {
    "ExecuteTime": {
     "end_time": "2020-08-10T19:29:58.017225Z",
     "start_time": "2020-08-10T19:29:57.996884Z"
    }
   },
   "outputs": [],
   "source": [
    "class Automata(nn.Module):\n",
    "    def __init__(self, grid_size, n_channels, hidden_size, device):\n",
    "\n",
    "        super(Automata, self).__init__()\n",
    "\n",
    "        self.n_channels = n_channels\n",
    "        self.grid_size = grid_size\n",
    "\n",
    "        self.filters = torch.Tensor(\n",
    "            [\n",
    "                [[[-1, 0, 1], [-2, 0, 2], [-1, 0, 1]]],\n",
    "                [[[-1, -2, -1], [0, 0, 0], [1, 2, 1]]],\n",
    "                [[[0, 0, 0], [0, 1, 0], [0, 0, 0]]],\n",
    "            ]\n",
    "        ).to(device)\n",
    "\n",
    "        self.mapper = nn.Sequential(\n",
    "            nn.Linear(3 * n_channels, hidden_size),\n",
    "            nn.ReLU(),\n",
    "            nn.Linear(hidden_size, n_channels),\n",
    "            nn.Tanh(),\n",
    "        )\n",
    "\n",
    "        self.mapper[2].weight.data.fill_(0)\n",
    "        self.mapper[2].bias.data.fill_(0)\n",
    "\n",
    "    def perception(self, x):\n",
    "\n",
    "        # reshape for same convolution across channels\n",
    "        x = x.reshape(-1, 1, self.grid_size[0], self.grid_size[1])\n",
    "\n",
    "        # toroidal padding\n",
    "        conved = nn.functional.pad(x, (1, 1, 1, 1), mode=\"circular\")\n",
    "\n",
    "        conved = nn.functional.conv2d(conved, model.filters)\n",
    "\n",
    "        # reshape for perception computations\n",
    "        conved = conved.view(self.batch_size, 3 * self.n_channels, -1)\n",
    "        conved = conved.transpose(1, 2)\n",
    "\n",
    "        conved = self.mapper(conved)\n",
    "\n",
    "        conved = conved.transpose(1, 2)\n",
    "        # (batch_size, channels, total_cells)\n",
    "\n",
    "        conved = conved.view(self.batch_size, self.n_channels, *self.grid_size)\n",
    "\n",
    "        can_update = torch.rand_like(conved) < 0.5\n",
    "\n",
    "        return conved * can_update\n",
    "\n",
    "    def forward(self, x, iterations, keep_history=False):\n",
    "\n",
    "        if keep_history:\n",
    "\n",
    "            model.history = torch.zeros(iterations, *x.shape)\n",
    "\n",
    "        model.batch_size = x.shape[0]\n",
    "\n",
    "        x.requires_grad = True\n",
    "\n",
    "        prev = torch.zeros_like(x)\n",
    "\n",
    "        for i in range(iterations):\n",
    "\n",
    "            # get vitality of neighbors\n",
    "            next_alive = (\n",
    "                nn.functional.max_pool2d(x[:, 3], (3, 3), stride=1, padding=1) > 1 / 8\n",
    "            )\n",
    "\n",
    "            next_alive = next_alive.unsqueeze(1)\n",
    "\n",
    "            alive_indicators = nn.functional.pad(\n",
    "                x[:, 3][:, None], [neighborhood // 2] * 4, mode=\"circular\"\n",
    "            )\n",
    "            \n",
    "            # apply neighborhood filter to eliminate too-dense\n",
    "            neighbor_density = nn.functional.conv2d(\n",
    "                alive_indicators, neighborhood_kernel\n",
    "            )\n",
    "            neighbor_density = neighbor_density[:, 0]\n",
    "\n",
    "            too_dense = neighbor_density.unsqueeze(1) < float(\n",
    "                neighborhood_kernel.sum() * 0.25\n",
    "            )\n",
    "\n",
    "            # keep only cells that have some number of \n",
    "            # close neighbors, but not too many\n",
    "            is_alive = next_alive * too_dense\n",
    "\n",
    "            # apply the update\n",
    "            x = x + checkpoint.checkpoint(self.perception, x)\n",
    "            x = x * is_alive\n",
    "\n",
    "            x[:, :4].clamp_(0, 1)\n",
    "\n",
    "            if keep_history:\n",
    "\n",
    "                model.history[i] = x.detach()\n",
    "\n",
    "            # keep the penultimate state for\n",
    "            # computing the stability loss\n",
    "            if i == iterations - 2:\n",
    "                prev = x.clone()\n",
    "\n",
    "        return x, prev"
   ]
  },
  {
   "cell_type": "markdown",
   "metadata": {},
   "source": [
    "# Train model"
   ]
  },
  {
   "cell_type": "code",
   "execution_count": 4,
   "metadata": {
    "ExecuteTime": {
     "end_time": "2020-08-10T19:35:43.409066Z",
     "start_time": "2020-08-10T19:29:58.018254Z"
    }
   },
   "outputs": [
    {
     "name": "stdout",
     "output_type": "stream",
     "text": [
      "0 -6.10351571594947e-06\n",
      "10 -0.008034402504563332\n",
      "20 -0.011073505505919456\n",
      "30 -0.007254767697304487\n",
      "40 -0.014240249991416931\n",
      "50 -0.015265320427715778\n",
      "60 -0.017484311014413834\n",
      "70 -0.012835280038416386\n",
      "80 -0.015436439774930477\n",
      "90 -0.026257146149873734\n",
      "100 -0.026160959154367447\n",
      "110 -0.02619788981974125\n",
      "120 -0.026670794934034348\n",
      "130 -0.026894867420196533\n",
      "140 -0.026841171085834503\n",
      "150 -0.026750272139906883\n",
      "160 -0.02684817835688591\n",
      "170 -0.02639467641711235\n",
      "180 -0.026765821501612663\n",
      "190 -0.026824651286005974\n",
      "200 -0.026566842570900917\n",
      "210 -0.02643756940960884\n",
      "220 -0.026859264820814133\n",
      "230 -0.026452679187059402\n",
      "240 -0.02697073109447956\n"
     ]
    }
   ],
   "source": [
    "n_channels = 4\n",
    "n_epochs = 250\n",
    "lr = 0.001 # learning rate\n",
    "batch_size = 8\n",
    "hidden_size = 64\n",
    "\n",
    "model = Automata((128, 128), n_channels, hidden_size, device).cuda()\n",
    "\n",
    "losses = []\n",
    "\n",
    "# initialize pool with seeds\n",
    "seed = torch.zeros(n_channels, 128, 128).cuda()\n",
    "seed[3:, 64, 64] = 1\n",
    "\n",
    "criterion = nn.MSELoss(reduction=\"none\")\n",
    "optimizer = torch.optim.Adam(model.parameters(), lr=lr)\n",
    "\n",
    "for i in range(n_epochs):\n",
    "\n",
    "    iterations = random.randint(125, 150)\n",
    "\n",
    "    initial_states = seed[None, :].repeat(batch_size, 1, 1, 1)\n",
    "\n",
    "    out, prev = model(initial_states, iterations, keep_history=True)\n",
    "\n",
    "    optimizer.zero_grad()\n",
    "\n",
    "    alives = out[:, 3]\n",
    "    prev_alives = prev[:, 3]\n",
    "\n",
    "    # use a multiplier to weight the vitality loss less\n",
    "    vitality_loss = -alives.mean() * 0.1\n",
    "    stability_loss = ((alives - prev_alives) ** 2).mean()\n",
    "\n",
    "    loss = vitality_loss + stability_loss\n",
    "\n",
    "    loss.backward()\n",
    "    optimizer.step()\n",
    "\n",
    "    if i % 10 == 0:\n",
    "\n",
    "        print(i, float(loss.cpu().detach()))\n",
    "\n",
    "    losses.append(float(loss))"
   ]
  },
  {
   "cell_type": "code",
   "execution_count": 5,
   "metadata": {
    "ExecuteTime": {
     "end_time": "2020-08-10T19:35:43.499314Z",
     "start_time": "2020-08-10T19:35:43.410183Z"
    }
   },
   "outputs": [
    {
     "data": {
      "text/plain": [
       "[<matplotlib.lines.Line2D at 0x7f12f009a890>]"
      ]
     },
     "execution_count": 5,
     "metadata": {},
     "output_type": "execute_result"
    },
    {
     "data": {
      "image/png": "[encoded data removed]",
      "text/plain": [
       "<Figure size 432x288 with 1 Axes>"
      ]
     },
     "metadata": {
      "needs_background": "light"
     },
     "output_type": "display_data"
    }
   ],
   "source": [
    "plt.plot(losses)"
   ]
  },
  {
   "cell_type": "code",
   "execution_count": 6,
   "metadata": {
    "ExecuteTime": {
     "end_time": "2020-08-10T19:35:56.056835Z",
     "start_time": "2020-08-10T19:35:43.500370Z"
    }
   },
   "outputs": [
    {
     "name": "stderr",
     "output_type": "stream",
     "text": [
      "/home/khu/.cache/pypoetry/virtualenvs/neural-automata-mPApKxAd-py3.7/lib/python3.7/site-packages/torch/utils/checkpoint.py:25: UserWarning: None of the inputs have requires_grad=True. Gradients will be None\n",
      "  warnings.warn(\"None of the inputs have requires_grad=True. Gradients will be None\")\n"
     ]
    }
   ],
   "source": [
    "video = utils.get_model_history(model, seed, 512)\n",
    "utils.channels_to_gif(\"../videos/optimization_channels.gif\", video, row_channels=2, col_channels=2)\n",
    "utils.colors_to_gif(\"../videos/optimization_colors.gif\", video)"
   ]
  }
 ],
 "metadata": {
  "kernelspec": {
   "display_name": "Python 3",
   "language": "python",
   "name": "python3"
  },
  "language_info": {
   "codemirror_mode": {
    "name": "ipython",
    "version": 3
   },
   "file_extension": ".py",
   "mimetype": "text/x-python",
   "name": "python",
   "nbconvert_exporter": "python",
   "pygments_lexer": "ipython3",
   "version": "3.7.4"
  },
  "toc": {
   "base_numbering": 1,
   "nav_menu": {},
   "number_sections": true,
   "sideBar": true,
   "skip_h1_title": false,
   "title_cell": "Table of Contents",
   "title_sidebar": "Contents",
   "toc_cell": false,
   "toc_position": {},
   "toc_section_display": true,
   "toc_window_display": false
  }
 },
 "nbformat": 4,
 "nbformat_minor": 4
}
