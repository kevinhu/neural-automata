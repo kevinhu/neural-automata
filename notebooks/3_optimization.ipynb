{
 "cells": [
  {
   "cell_type": "code",
   "execution_count": 10,
   "metadata": {
    "ExecuteTime": {
     "end_time": "2020-08-10T05:17:15.187814Z",
     "start_time": "2020-08-10T05:17:15.090174Z"
    }
   },
   "outputs": [],
   "source": [
    "import torch\n",
    "from torch import nn\n",
    "\n",
    "import torch.functional as F\n",
    "import torchvision.transforms.functional as TF\n",
    "import torch.utils.checkpoint as checkpoint\n",
    "\n",
    "from PIL import Image\n",
    "\n",
    "import matplotlib.pyplot as plt\n",
    "import matplotlib as mpl\n",
    "import seaborn as sns\n",
    "\n",
    "import numpy as np\n",
    "import random\n",
    "\n",
    "import requests\n",
    "import io\n",
    "\n",
    "import sys\n",
    "sys.path.append(\"../includes\")\n",
    "\n",
    "import utils"
   ]
  },
  {
   "cell_type": "code",
   "execution_count": 2,
   "metadata": {
    "ExecuteTime": {
     "end_time": "2020-08-10T05:12:54.850383Z",
     "start_time": "2020-08-10T05:12:52.169757Z"
    }
   },
   "outputs": [
    {
     "data": {
      "text/plain": [
       "<matplotlib.image.AxesImage at 0x7f86a019d150>"
      ]
     },
     "execution_count": 2,
     "metadata": {},
     "output_type": "execute_result"
    },
    {
     "data": {
      "image/png": "[encoded data removed]",
      "text/plain": [
       "<Figure size 432x288 with 1 Axes>"
      ]
     },
     "metadata": {
      "needs_background": "light"
     },
     "output_type": "display_data"
    }
   ],
   "source": [
    "neighborhood = 25\n",
    "\n",
    "center = neighborhood // 2\n",
    "\n",
    "y, x = np.ogrid[-center : center + 1, -center : center + 1]\n",
    "mask = torch.Tensor(x * x + y * y <= (neighborhood // 2) ** 2).bool()\n",
    "\n",
    "neighborhood_kernel = torch.zeros(neighborhood, neighborhood).cuda()\n",
    "neighborhood_kernel[mask] = 1\n",
    "\n",
    "neighborhood_kernel = neighborhood_kernel[None, None, :]\n",
    "\n",
    "plt.imshow(neighborhood_kernel[0, 0].cpu())"
   ]
  },
  {
   "cell_type": "markdown",
   "metadata": {},
   "source": [
    "# Initialize model"
   ]
  },
  {
   "cell_type": "code",
   "execution_count": 3,
   "metadata": {
    "ExecuteTime": {
     "end_time": "2020-08-10T05:12:54.864342Z",
     "start_time": "2020-08-10T05:12:54.853474Z"
    }
   },
   "outputs": [],
   "source": [
    "class Automata(nn.Module):\n",
    "    def __init__(self, grid_size, n_channels):\n",
    "\n",
    "        super(Automata, self).__init__()\n",
    "\n",
    "        self.n_channels = n_channels\n",
    "        self.grid_size = grid_size\n",
    "\n",
    "        self.filters = torch.Tensor(\n",
    "            [\n",
    "                [[[-1, 0, 1], [-2, 0, 2], [-1, 0, 1]]],\n",
    "                [[[-1, -2, -1], [0, 0, 0], [1, 2, 1]]],\n",
    "                [[[0, 0, 0], [0, 1, 0], [0, 0, 0]]],\n",
    "            ]\n",
    "        ).cuda()\n",
    "\n",
    "        self.mapper = nn.Sequential(\n",
    "            nn.Linear(3 * n_channels, 128),\n",
    "            nn.ReLU(),\n",
    "            nn.Linear(128, n_channels),\n",
    "            nn.Tanh(),\n",
    "        )\n",
    "\n",
    "        self.mapper[2].weight.data.fill_(0)\n",
    "        self.mapper[2].bias.data.fill_(0)\n",
    "\n",
    "    def perception(self, x):\n",
    "\n",
    "        # reshape for same convolution across channels\n",
    "        x = x.reshape(-1, 1, self.grid_size[0], self.grid_size[1])\n",
    "\n",
    "        # toroidal padding\n",
    "        conved = nn.functional.pad(x, (1, 1, 1, 1), mode=\"circular\")\n",
    "\n",
    "        conved = nn.functional.conv2d(conved, model.filters)\n",
    "\n",
    "        # reshape for perception computations\n",
    "        conved = conved.view(self.batch_size, 3 * self.n_channels, -1)\n",
    "        conved = conved.transpose(1, 2)\n",
    "\n",
    "        conved = self.mapper(conved)\n",
    "\n",
    "        conved = conved.transpose(1, 2)\n",
    "        # (batch_size, channels, total_cells)\n",
    "\n",
    "        conved = conved.view(self.batch_size, self.n_channels, *self.grid_size)\n",
    "\n",
    "        can_update = torch.rand_like(conved) < 0.5\n",
    "\n",
    "        return conved * can_update\n",
    "\n",
    "    def forward(self, x, iterations, keep_history=False):\n",
    "\n",
    "        if keep_history:\n",
    "\n",
    "            model.history = torch.zeros(iterations, *x.shape)\n",
    "\n",
    "        model.batch_size = x.shape[0]\n",
    "\n",
    "        x.requires_grad = True\n",
    "\n",
    "        prev = torch.zeros_like(x)\n",
    "\n",
    "        for i in range(iterations):\n",
    "\n",
    "            next_alive = (\n",
    "                nn.functional.max_pool2d(x[:, 3], (3, 3), stride=1, padding=1) > 1 / 8\n",
    "            )\n",
    "\n",
    "            next_alive = next_alive.unsqueeze(1)\n",
    "\n",
    "            alive_indicators = nn.functional.pad(\n",
    "                x[:, 3][:, None], [neighborhood // 2] * 4, mode=\"circular\"\n",
    "            )\n",
    "            neighbor_density = nn.functional.conv2d(\n",
    "                alive_indicators, neighborhood_kernel\n",
    "            )\n",
    "            neighbor_density = neighbor_density[:, 0]\n",
    "\n",
    "            too_dense = neighbor_density.unsqueeze(1) < float(\n",
    "                neighborhood_kernel.sum() * 0.25\n",
    "            )\n",
    "\n",
    "            is_alive = next_alive * too_dense\n",
    "\n",
    "            x = x + checkpoint.checkpoint(self.perception, x)\n",
    "\n",
    "            x = x * is_alive\n",
    "\n",
    "            x[:, :4].clamp_(0, 1)\n",
    "\n",
    "            if keep_history:\n",
    "\n",
    "                model.history[i] = x.detach()\n",
    "\n",
    "            if i == iterations - 2:\n",
    "                prev = x.clone()\n",
    "\n",
    "        return x, prev"
   ]
  },
  {
   "cell_type": "markdown",
   "metadata": {},
   "source": [
    "# Train model"
   ]
  },
  {
   "cell_type": "code",
   "execution_count": 15,
   "metadata": {
    "ExecuteTime": {
     "end_time": "2020-08-10T05:23:55.635455Z",
     "start_time": "2020-08-10T05:18:23.661009Z"
    }
   },
   "outputs": [
    {
     "name": "stdout",
     "output_type": "stream",
     "text": [
      "0 -6.10351571594947e-06\n",
      "10 -0.004485514480620623\n",
      "20 -0.015336237847805023\n",
      "30 -0.016764629632234573\n",
      "40 -0.01384422555565834\n",
      "50 -0.011872773058712482\n",
      "60 -0.016618287190794945\n",
      "70 -0.026826616376638412\n",
      "80 -0.026803065091371536\n",
      "90 -0.026926690712571144\n"
     ]
    }
   ],
   "source": [
    "n_channels = 16\n",
    "n_epochs = 100\n",
    "lr = 0.001\n",
    "batch_size = 8\n",
    "\n",
    "model = Automata((128, 128), n_channels).cuda()\n",
    "\n",
    "losses = []\n",
    "\n",
    "# initialize pool with seeds\n",
    "seed = torch.zeros(n_channels, 128, 128).cuda()\n",
    "seed[3:, 64, 64] = 1\n",
    "\n",
    "criterion = nn.MSELoss(reduction=\"none\")\n",
    "optimizer = torch.optim.Adam(model.parameters(), lr=lr)\n",
    "\n",
    "for i in range(n_epochs):\n",
    "\n",
    "    iterations = random.randint(125, 150)\n",
    "\n",
    "    initial_states = seed[None, :].repeat(batch_size, 1, 1, 1)\n",
    "\n",
    "    out, prev = model(initial_states, iterations, keep_history=True)\n",
    "\n",
    "    optimizer.zero_grad()\n",
    "\n",
    "    alives = out[:, 3]\n",
    "    prev_alives = prev[:, 3]\n",
    "\n",
    "    vitality_loss = -alives.mean() * 0.1\n",
    "    stability_loss = ((alives - prev_alives) ** 2).mean()\n",
    "\n",
    "    loss = vitality_loss + stability_loss\n",
    "\n",
    "    loss.backward()\n",
    "    optimizer.step()\n",
    "\n",
    "    if i % 10 == 0:\n",
    "\n",
    "        print(i, float(loss.cpu().detach()))\n",
    "\n",
    "    losses.append(float(loss))"
   ]
  },
  {
   "cell_type": "code",
   "execution_count": 16,
   "metadata": {
    "ExecuteTime": {
     "end_time": "2020-08-10T05:24:03.418178Z",
     "start_time": "2020-08-10T05:24:03.325192Z"
    }
   },
   "outputs": [
    {
     "data": {
      "text/plain": [
       "[<matplotlib.lines.Line2D at 0x7f8688130210>]"
      ]
     },
     "execution_count": 16,
     "metadata": {},
     "output_type": "execute_result"
    },
    {
     "data": {
      "image/png": "[encoded data removed]",
      "text/plain": [
       "<Figure size 432x288 with 1 Axes>"
      ]
     },
     "metadata": {
      "needs_background": "light"
     },
     "output_type": "display_data"
    }
   ],
   "source": [
    "plt.plot(losses)"
   ]
  },
  {
   "cell_type": "code",
   "execution_count": 17,
   "metadata": {
    "ExecuteTime": {
     "end_time": "2020-08-10T05:24:25.664451Z",
     "start_time": "2020-08-10T05:24:05.677295Z"
    }
   },
   "outputs": [
    {
     "name": "stderr",
     "output_type": "stream",
     "text": [
      "../includes/utils.py:93: RuntimeWarning: invalid value encountered in true_divide\n",
      "  a = a/a.max()\n"
     ]
    }
   ],
   "source": [
    "video = utils.get_model_history(model, seed, 512)\n",
    "utils.channels_to_gif(\"../videos/optimization_channels.gif\", video)\n",
    "utils.colors_to_gif(\"../videos/optimization_colors.gif\", video)"
   ]
  }
 ],
 "metadata": {
  "kernelspec": {
   "display_name": "Python 3",
   "language": "python",
   "name": "python3"
  },
  "language_info": {
   "codemirror_mode": {
    "name": "ipython",
    "version": 3
   },
   "file_extension": ".py",
   "mimetype": "text/x-python",
   "name": "python",
   "nbconvert_exporter": "python",
   "pygments_lexer": "ipython3",
   "version": "3.7.4"
  },
  "toc": {
   "base_numbering": 1,
   "nav_menu": {},
   "number_sections": true,
   "sideBar": true,
   "skip_h1_title": false,
   "title_cell": "Table of Contents",
   "title_sidebar": "Contents",
   "toc_cell": false,
   "toc_position": {},
   "toc_section_display": true,
   "toc_window_display": false
  }
 },
 "nbformat": 4,
 "nbformat_minor": 4
}
