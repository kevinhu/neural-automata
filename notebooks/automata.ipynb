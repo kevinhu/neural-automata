{
 "cells": [
  {
   "cell_type": "code",
   "execution_count": 1,
   "metadata": {
    "ExecuteTime": {
     "end_time": "2020-05-28T20:42:49.861312Z",
     "start_time": "2020-05-28T20:42:48.091819Z"
    }
   },
   "outputs": [],
   "source": [
    "import torch\n",
    "from torch import nn\n",
    "\n",
    "import torch.functional as F\n",
    "\n",
    "from PIL import Image\n",
    "import torchvision.transforms.functional as TF\n",
    "\n",
    "import matplotlib.pyplot as plt\n",
    "import matplotlib as mpl\n",
    "import seaborn as sns\n",
    "\n",
    "import numpy as np\n",
    "import random\n",
    "\n",
    "import requests\n",
    "import io"
   ]
  },
  {
   "cell_type": "code",
   "execution_count": 2,
   "metadata": {
    "ExecuteTime": {
     "end_time": "2020-05-28T20:42:51.434985Z",
     "start_time": "2020-05-28T20:42:49.862535Z"
    }
   },
   "outputs": [
    {
     "data": {
      "text/plain": [
       "<matplotlib.image.AxesImage at 0x7fa868f15490>"
      ]
     },
     "execution_count": 2,
     "metadata": {},
     "output_type": "execute_result"
    },
    {
     "data": {
      "image/png": "[encoded data removed]",
      "text/plain": [
       "<Figure size 432x288 with 1 Axes>"
      ]
     },
     "metadata": {
      "needs_background": "light"
     },
     "output_type": "display_data"
    }
   ],
   "source": [
    "def load_image(url, max_size=48, padding=8):\n",
    "    r = requests.get(url)\n",
    "    img = Image.open(io.BytesIO(r.content))\n",
    "    img.thumbnail((max_size, max_size), Image.ANTIALIAS)\n",
    "    img = np.float32(img)/255.0\n",
    "    img = np.pad(img,((8,8),(8,8),(0,0)))\n",
    "    \n",
    "    # premultiply RGB by Alpha\n",
    "    img[..., :3] *= img[..., 3:]\n",
    "    \n",
    "    img = torch.Tensor(img).cuda()\n",
    "    img = img.transpose(0,2)\n",
    "\n",
    "    return img\n",
    "\n",
    "\n",
    "def load_emoji(emoji):\n",
    "    code = hex(ord(emoji))[2:].lower()\n",
    "    url = 'https://raw.githubusercontent.com/iamcal/emoji-data/master/img-apple-64/%s.png' % code\n",
    "    return load_image(url)\n",
    "\n",
    "\n",
    "image = load_emoji(\"🦆\")\n",
    "\n",
    "plt.imshow(image.transpose(0,2).cpu())"
   ]
  },
  {
   "cell_type": "code",
   "execution_count": 7,
   "metadata": {
    "ExecuteTime": {
     "end_time": "2020-05-28T20:44:42.947916Z",
     "start_time": "2020-05-28T20:44:42.937866Z"
    }
   },
   "outputs": [],
   "source": [
    "class Automata(nn.Module):\n",
    "\n",
    "    def __init__(self, grid_size, n_channels):\n",
    "\n",
    "        super(Automata, self).__init__()\n",
    "\n",
    "        self.n_channels = n_channels\n",
    "        self.grid_size = grid_size\n",
    "\n",
    "        self.filters = torch.Tensor([[[[-1, 0, 1],\n",
    "                                       [-2, 0, 2],\n",
    "                                       [-1, 0, 1]\n",
    "                                       ]],\n",
    "                                     [[[-1, -2, -1],\n",
    "                                       [0, 0, 0],\n",
    "                                       [1, 2, 1]\n",
    "                                       ]],\n",
    "                                     [[[0, 0, 0],\n",
    "                                       [0, 1, 0],\n",
    "                                       [0, 0, 0]\n",
    "                                       ]]]).cuda()\n",
    "\n",
    "        self.mapper = nn.Sequential(\n",
    "            nn.Linear(3*n_channels, 128),\n",
    "            nn.ReLU(),\n",
    "            nn.Linear(128, n_channels),\n",
    "            nn.Tanh()\n",
    "        )\n",
    "\n",
    "        self.mapper[2].weight.data.fill_(0)\n",
    "        self.mapper[2].bias.data.fill_(0)\n",
    "\n",
    "    def perception(self, x):\n",
    "\n",
    "        conved = nn.functional.pad(x, (1, 1, 1, 1), mode=\"reflect\")\n",
    "        conved = nn.functional.conv2d(conved, model.filters)\n",
    "        conved = conved.view(1, 3*self.n_channels, -1)\n",
    "\n",
    "        conved = conved.transpose(1, 2)\n",
    "        conved = self.mapper(conved)\n",
    "\n",
    "        conved = conved.transpose(1, 2)\n",
    "        conved = conved.view(self.n_channels, 1, *self.grid_size)\n",
    "\n",
    "        can_update = torch.rand_like(conved) < 0.75\n",
    "        \n",
    "        return conved*can_update\n",
    "\n",
    "    def forward(self, x, iterations):\n",
    "        \n",
    "        model.history = torch.zeros(iterations, *x.shape)\n",
    "        \n",
    "        for i in range(iterations):\n",
    "\n",
    "            conved = self.perception(x)\n",
    "\n",
    "            x = x + conved\n",
    "\n",
    "            is_alive = nn.functional.max_pool2d(\n",
    "                x[3], (3, 3), stride=1, padding=1) > 0\n",
    "\n",
    "            x = x*is_alive\n",
    "            x[:4].clamp_(0, 1)\n",
    "            \n",
    "            model.history[i] = x\n",
    "\n",
    "        return x"
   ]
  },
  {
   "cell_type": "code",
   "execution_count": 30,
   "metadata": {
    "ExecuteTime": {
     "end_time": "2020-05-28T20:57:40.521364Z",
     "start_time": "2020-05-28T20:55:00.427487Z"
    }
   },
   "outputs": [
    {
     "name": "stdout",
     "output_type": "stream",
     "text": [
      "0 0.10192038118839264\n",
      "100 0.04451324790716171\n",
      "200 0.04124295711517334\n",
      "300 0.03751397132873535\n",
      "400 0.03242340683937073\n",
      "500 0.03219525143504143\n",
      "600 0.03593581169843674\n",
      "700 0.030108803883194923\n",
      "800 0.028365684673190117\n",
      "900 0.02715015783905983\n",
      "1000 0.03235644847154617\n",
      "1100 0.0273980014026165\n",
      "1200 0.028184516355395317\n",
      "1300 0.028299249708652496\n",
      "1400 0.027779381722211838\n",
      "1500 0.022179700434207916\n",
      "1600 0.023640193045139313\n",
      "1700 0.021697960793972015\n",
      "1800 0.022124124690890312\n",
      "1900 0.027920421212911606\n",
      "2000 0.019696181640028954\n",
      "2100 0.018128085881471634\n",
      "2200 0.02197548747062683\n",
      "2300 0.01932079903781414\n",
      "2400 0.024488437920808792\n"
     ]
    }
   ],
   "source": [
    "n_epochs = 2500\n",
    "\n",
    "lr = 0.0001\n",
    "\n",
    "n_channels = 16\n",
    "\n",
    "model = Automata((64, 64), n_channels).cuda()\n",
    "\n",
    "criterion = nn.MSELoss()\n",
    "\n",
    "optimizer = torch.optim.Adam(model.parameters(), lr=lr)\n",
    "\n",
    "losses = []\n",
    "\n",
    "for i in range(n_epochs):\n",
    "    \n",
    "    iterations = random.randint(64,96)\n",
    "    \n",
    "    initial_state = torch.rand(n_channels, 1, 32, 32).cuda()\n",
    "    initial_state = initial_state < 0.01\n",
    "    initial_state = initial_state.float()\n",
    "    initial_state = nn.functional.pad(initial_state,(16,16,16,16))\n",
    "\n",
    "    out = model(initial_state,iterations)[:4].squeeze()\n",
    "\n",
    "    optimizer.zero_grad()\n",
    "\n",
    "    loss = criterion(out, image)\n",
    "\n",
    "    loss.backward()\n",
    "    optimizer.step()\n",
    "\n",
    "    if i % 100 == 0:\n",
    "    \n",
    "        print(i, float(loss.cpu().detach()))\n",
    "        \n",
    "    losses.append(loss)"
   ]
  },
  {
   "cell_type": "code",
   "execution_count": 96,
   "metadata": {
    "ExecuteTime": {
     "end_time": "2020-05-28T21:22:18.948240Z",
     "start_time": "2020-05-28T21:19:39.214365Z"
    }
   },
   "outputs": [
    {
     "name": "stdout",
     "output_type": "stream",
     "text": [
      "0 0.00832260400056839\n",
      "100 0.008597295731306076\n",
      "200 0.00906833540648222\n",
      "300 0.008945656940340996\n",
      "400 0.012275359593331814\n",
      "500 0.017052747309207916\n",
      "600 0.008193854242563248\n",
      "700 0.012055961415171623\n",
      "800 0.010173311457037926\n",
      "900 0.00832013227045536\n",
      "1000 0.013547383248806\n",
      "1100 0.012117059901356697\n",
      "1200 0.01055285707116127\n",
      "1300 0.009862818755209446\n",
      "1400 0.010821046307682991\n",
      "1500 0.01233009435236454\n",
      "1600 0.012188507243990898\n",
      "1700 0.00919179804623127\n",
      "1800 0.007147499360144138\n",
      "1900 0.009406103752553463\n",
      "2000 0.009521925821900368\n",
      "2100 0.013775221072137356\n",
      "2200 0.005574600771069527\n",
      "2300 0.01044975034892559\n",
      "2400 0.007980147376656532\n"
     ]
    }
   ],
   "source": [
    "for i in range(n_epochs):\n",
    "    \n",
    "    iterations = random.randint(64,96)\n",
    "    \n",
    "    initial_state = torch.rand(n_channels, 1, 32, 32).cuda()\n",
    "    initial_state = initial_state < 0.01\n",
    "    initial_state = initial_state.float()\n",
    "    initial_state = nn.functional.pad(initial_state,(16,16,16,16))\n",
    "\n",
    "    out = model(initial_state,iterations)[:4].squeeze()\n",
    "\n",
    "    optimizer.zero_grad()\n",
    "\n",
    "    loss = criterion(out, image)\n",
    "\n",
    "    loss.backward()\n",
    "    optimizer.step()\n",
    "\n",
    "    if i % 100 == 0:\n",
    "    \n",
    "        print(i, float(loss.cpu().detach()))\n",
    "        \n",
    "    losses.append(loss)"
   ]
  },
  {
   "cell_type": "code",
   "execution_count": 98,
   "metadata": {
    "ExecuteTime": {
     "end_time": "2020-05-28T21:23:18.986706Z",
     "start_time": "2020-05-28T21:23:18.657492Z"
    }
   },
   "outputs": [
    {
     "data": {
      "text/plain": [
       "[<matplotlib.lines.Line2D at 0x7fa82ca57a10>]"
      ]
     },
     "execution_count": 98,
     "metadata": {},
     "output_type": "execute_result"
    },
    {
     "data": {
      "image/png": "[encoded data removed]",
      "text/plain": [
       "<Figure size 432x288 with 1 Axes>"
      ]
     },
     "metadata": {
      "needs_background": "light"
     },
     "output_type": "display_data"
    }
   ],
   "source": [
    "plt.plot(np.log10(losses))"
   ]
  },
  {
   "cell_type": "code",
   "execution_count": 99,
   "metadata": {
    "ExecuteTime": {
     "end_time": "2020-05-28T21:23:27.501553Z",
     "start_time": "2020-05-28T21:23:27.358739Z"
    }
   },
   "outputs": [
    {
     "data": {
      "text/plain": [
       "<matplotlib.image.AxesImage at 0x7fa82c8d4650>"
      ]
     },
     "execution_count": 99,
     "metadata": {},
     "output_type": "execute_result"
    },
    {
     "data": {
      "image/png": "[encoded data removed]",
      "text/plain": [
       "<Figure size 432x288 with 1 Axes>"
      ]
     },
     "metadata": {
      "needs_background": "light"
     },
     "output_type": "display_data"
    }
   ],
   "source": [
    "plt.imshow(model.history[-1][:4,0].transpose(0,2).cpu().detach())\n"
   ]
  }
 ],
 "metadata": {
  "kernelspec": {
   "display_name": "Python 3",
   "language": "python",
   "name": "python3"
  },
  "language_info": {
   "codemirror_mode": {
    "name": "ipython",
    "version": 3
   },
   "file_extension": ".py",
   "mimetype": "text/x-python",
   "name": "python",
   "nbconvert_exporter": "python",
   "pygments_lexer": "ipython3",
   "version": "3.7.6"
  },
  "toc": {
   "base_numbering": 1,
   "nav_menu": {},
   "number_sections": true,
   "sideBar": true,
   "skip_h1_title": false,
   "title_cell": "Table of Contents",
   "title_sidebar": "Contents",
   "toc_cell": false,
   "toc_position": {},
   "toc_section_display": true,
   "toc_window_display": false
  }
 },
 "nbformat": 4,
 "nbformat_minor": 4
}
