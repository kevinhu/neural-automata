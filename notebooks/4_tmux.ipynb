{
 "cells": [
  {
   "cell_type": "code",
   "execution_count": 2,
   "metadata": {
    "ExecuteTime": {
     "end_time": "2020-06-07T18:46:46.869898Z",
     "start_time": "2020-06-07T18:46:46.073495Z"
    }
   },
   "outputs": [],
   "source": [
    "import torch\n",
    "from torch import nn\n",
    "\n",
    "import torch.functional as F\n",
    "import torchvision.transforms.functional as TF\n",
    "import torch.utils.checkpoint as checkpoint\n",
    "\n",
    "import matplotlib.pyplot as plt\n",
    "import matplotlib as mpl\n",
    "import seaborn as sns\n",
    "\n",
    "import numpy as np\n",
    "import random\n",
    "\n",
    "import sys\n",
    "sys.path.append(\"../includes\")\n",
    "\n",
    "import models\n",
    "import utils\n",
    "\n",
    "import imageio\n",
    "import imageio_ffmpeg\n",
    "\n",
    "from PIL import Image,ImageDraw\n",
    "\n",
    "use_cuda = torch.cuda.is_available()\n",
    "device = torch.device(\"cuda:0\" if use_cuda else \"cpu\")"
   ]
  },
  {
   "cell_type": "markdown",
   "metadata": {},
   "source": [
    "# Set up target image"
   ]
  },
  {
   "cell_type": "code",
   "execution_count": 17,
   "metadata": {
    "ExecuteTime": {
     "end_time": "2020-06-07T18:49:13.473195Z",
     "start_time": "2020-06-07T18:49:13.389532Z"
    }
   },
   "outputs": [
    {
     "data": {
      "image/png": "[encoded data removed]",
      "text/plain": [
       "<Figure size 432x288 with 1 Axes>"
      ]
     },
     "metadata": {
      "needs_background": "light"
     },
     "output_type": "display_data"
    }
   ],
   "source": [
    "image = Image.open(\"../data/raw/maze.png\")\n",
    "\n",
    "image = np.array(image)\n",
    "\n",
    "# manually set alpha channel\n",
    "image[:,:,3] = 255-image[:,:,0]\n",
    "image[:,:,:3] = 0\n",
    "\n",
    "plt.imshow(image)\n",
    "\n",
    "image = image/255\n",
    "\n",
    "image = torch.Tensor(image).transpose(0,2).to(device)\n",
    "\n",
    "img_size = 65"
   ]
  },
  {
   "cell_type": "markdown",
   "metadata": {},
   "source": [
    "# Initialize model"
   ]
  },
  {
   "cell_type": "code",
   "execution_count": 18,
   "metadata": {
    "ExecuteTime": {
     "end_time": "2020-06-07T18:49:18.603160Z",
     "start_time": "2020-06-07T18:49:18.597550Z"
    }
   },
   "outputs": [],
   "source": [
    "n_channels = 16\n",
    "hidden_size = 256\n",
    "\n",
    "model = models.Automata((img_size, img_size), n_channels, hidden_size, device).to(device)"
   ]
  },
  {
   "cell_type": "markdown",
   "metadata": {},
   "source": [
    "# Initialize pool"
   ]
  },
  {
   "cell_type": "code",
   "execution_count": 19,
   "metadata": {
    "ExecuteTime": {
     "end_time": "2020-06-07T18:49:20.651133Z",
     "start_time": "2020-06-07T18:49:20.644017Z"
    }
   },
   "outputs": [],
   "source": [
    "pool_size = 1024\n",
    "batch_size = 16\n",
    "\n",
    "# initialize pool with seeds\n",
    "seed = torch.zeros(n_channels, img_size, img_size).to(device)\n",
    "seed[3:, img_size//2, img_size//2] = 1\n",
    "\n",
    "pool_initials = seed[None, :].repeat(pool_size, 1, 1, 1)\n",
    "\n",
    "targets = image[None,:].repeat(batch_size,1,1,1)"
   ]
  },
  {
   "cell_type": "markdown",
   "metadata": {},
   "source": [
    "# Train model"
   ]
  },
  {
   "cell_type": "code",
   "execution_count": 20,
   "metadata": {
    "ExecuteTime": {
     "end_time": "2020-06-07T20:15:54.994518Z",
     "start_time": "2020-06-07T18:49:27.951961Z"
    }
   },
   "outputs": [
    {
     "name": "stdout",
     "output_type": "stream",
     "text": [
      "0 -0.8904274266607852\n",
      "100 -1.281611433093031\n",
      "200 -1.2944065427206333\n",
      "300 -1.35135202283739\n",
      "400 -1.3414742909671493\n",
      "500 -1.4901129623221925\n",
      "600 -1.5119731516968262\n",
      "700 -1.4631995405781875\n",
      "800 -1.5887572253726754\n",
      "900 -1.6186934212802118\n",
      "1000 -1.5416772502201557\n",
      "1100 -1.641781294651836\n",
      "1200 -1.6084909088711323\n",
      "1300 -1.4492189454411852\n",
      "1400 -1.665418025097374\n",
      "1500 -1.683380445923481\n",
      "1600 -1.5209808555578117\n",
      "1700 -1.6120665457774732\n",
      "1800 -1.6250520807537048\n",
      "1900 -1.5809672650523645\n",
      "2000 -1.6099410860882108\n",
      "2100 -1.6334045284145218\n",
      "2200 -1.6114027671308362\n",
      "2300 -1.673474360323854\n",
      "2400 -1.7023894269435216\n",
      "2500 -1.7811224153809988\n",
      "2600 -1.5329328065261383\n",
      "2700 -1.7571787523292912\n",
      "2800 -1.6494226248953452\n",
      "2900 -1.7566438996686284\n",
      "3000 -1.7609556939839868\n",
      "3100 -1.8436865917268952\n",
      "3200 -1.797880750148484\n",
      "3300 -1.6020838976776748\n",
      "3400 -1.7592820175081825\n",
      "3500 -1.2715914827659707\n",
      "3600 -1.2045192501060327\n",
      "3700 -1.2045441501159706\n",
      "3800 -1.2045884606361363\n",
      "3900 -1.2048414799709506\n",
      "4000 -1.2047269407161263\n",
      "4100 -1.2047913102371213\n",
      "4200 -1.2048983460097558\n",
      "4300 -1.2040125174125722\n",
      "4400 -1.2047777252185201\n",
      "4500 -1.2059740046365033\n",
      "4600 -1.2115015658874555\n",
      "4700 -1.2046109544897967\n",
      "4800 -1.2089395428785534\n",
      "4900 -1.211328929996638\n",
      "5000 -1.2145211291862292\n",
      "5100 -1.2045896008495345\n",
      "5200 -1.2049114161380394\n",
      "5300 -1.2045620033431488\n",
      "5400 -1.204922152609109\n"
     ]
    },
    {
     "ename": "KeyboardInterrupt",
     "evalue": "",
     "output_type": "error",
     "traceback": [
      "\u001b[0;31m---------------------------------------------------------------------------\u001b[0m",
      "\u001b[0;31mKeyboardInterrupt\u001b[0m                         Traceback (most recent call last)",
      "\u001b[0;32m<ipython-input-20-67ba2eaacb58>\u001b[0m in \u001b[0;36m<module>\u001b[0;34m\u001b[0m\n\u001b[1;32m     27\u001b[0m     \u001b[0mtotal_loss\u001b[0m \u001b[0;34m=\u001b[0m \u001b[0mper_sample_loss\u001b[0m\u001b[0;34m.\u001b[0m\u001b[0mmean\u001b[0m\u001b[0;34m(\u001b[0m\u001b[0;34m)\u001b[0m\u001b[0;34m\u001b[0m\u001b[0;34m\u001b[0m\u001b[0m\n\u001b[1;32m     28\u001b[0m \u001b[0;34m\u001b[0m\u001b[0m\n\u001b[0;32m---> 29\u001b[0;31m     \u001b[0mtotal_loss\u001b[0m\u001b[0;34m.\u001b[0m\u001b[0mbackward\u001b[0m\u001b[0;34m(\u001b[0m\u001b[0;34m)\u001b[0m\u001b[0;34m\u001b[0m\u001b[0;34m\u001b[0m\u001b[0m\n\u001b[0m\u001b[1;32m     30\u001b[0m     \u001b[0moptimizer\u001b[0m\u001b[0;34m.\u001b[0m\u001b[0mstep\u001b[0m\u001b[0;34m(\u001b[0m\u001b[0;34m)\u001b[0m\u001b[0;34m\u001b[0m\u001b[0;34m\u001b[0m\u001b[0m\n\u001b[1;32m     31\u001b[0m \u001b[0;34m\u001b[0m\u001b[0m\n",
      "\u001b[0;32m~/anaconda3/envs/cenv/lib/python3.7/site-packages/torch/tensor.py\u001b[0m in \u001b[0;36mbackward\u001b[0;34m(self, gradient, retain_graph, create_graph)\u001b[0m\n\u001b[1;32m    193\u001b[0m                 \u001b[0mproducts\u001b[0m\u001b[0;34m.\u001b[0m \u001b[0mDefaults\u001b[0m \u001b[0mto\u001b[0m\u001b[0;31m \u001b[0m\u001b[0;31m`\u001b[0m\u001b[0;31m`\u001b[0m\u001b[0;32mFalse\u001b[0m\u001b[0;31m`\u001b[0m\u001b[0;31m`\u001b[0m\u001b[0;34m.\u001b[0m\u001b[0;34m\u001b[0m\u001b[0;34m\u001b[0m\u001b[0m\n\u001b[1;32m    194\u001b[0m         \"\"\"\n\u001b[0;32m--> 195\u001b[0;31m         \u001b[0mtorch\u001b[0m\u001b[0;34m.\u001b[0m\u001b[0mautograd\u001b[0m\u001b[0;34m.\u001b[0m\u001b[0mbackward\u001b[0m\u001b[0;34m(\u001b[0m\u001b[0mself\u001b[0m\u001b[0;34m,\u001b[0m \u001b[0mgradient\u001b[0m\u001b[0;34m,\u001b[0m \u001b[0mretain_graph\u001b[0m\u001b[0;34m,\u001b[0m \u001b[0mcreate_graph\u001b[0m\u001b[0;34m)\u001b[0m\u001b[0;34m\u001b[0m\u001b[0;34m\u001b[0m\u001b[0m\n\u001b[0m\u001b[1;32m    196\u001b[0m \u001b[0;34m\u001b[0m\u001b[0m\n\u001b[1;32m    197\u001b[0m     \u001b[0;32mdef\u001b[0m \u001b[0mregister_hook\u001b[0m\u001b[0;34m(\u001b[0m\u001b[0mself\u001b[0m\u001b[0;34m,\u001b[0m \u001b[0mhook\u001b[0m\u001b[0;34m)\u001b[0m\u001b[0;34m:\u001b[0m\u001b[0;34m\u001b[0m\u001b[0;34m\u001b[0m\u001b[0m\n",
      "\u001b[0;32m~/anaconda3/envs/cenv/lib/python3.7/site-packages/torch/autograd/__init__.py\u001b[0m in \u001b[0;36mbackward\u001b[0;34m(tensors, grad_tensors, retain_graph, create_graph, grad_variables)\u001b[0m\n\u001b[1;32m     97\u001b[0m     Variable._execution_engine.run_backward(\n\u001b[1;32m     98\u001b[0m         \u001b[0mtensors\u001b[0m\u001b[0;34m,\u001b[0m \u001b[0mgrad_tensors\u001b[0m\u001b[0;34m,\u001b[0m \u001b[0mretain_graph\u001b[0m\u001b[0;34m,\u001b[0m \u001b[0mcreate_graph\u001b[0m\u001b[0;34m,\u001b[0m\u001b[0;34m\u001b[0m\u001b[0;34m\u001b[0m\u001b[0m\n\u001b[0;32m---> 99\u001b[0;31m         allow_unreachable=True)  # allow_unreachable flag\n\u001b[0m\u001b[1;32m    100\u001b[0m \u001b[0;34m\u001b[0m\u001b[0m\n\u001b[1;32m    101\u001b[0m \u001b[0;34m\u001b[0m\u001b[0m\n",
      "\u001b[0;31mKeyboardInterrupt\u001b[0m: "
     ]
    }
   ],
   "source": [
    "n_epochs = 20000\n",
    "lr = 0.001\n",
    "\n",
    "losses = []\n",
    "\n",
    "criterion = nn.MSELoss(reduction='none')\n",
    "optimizer = torch.optim.Adam(model.parameters(), lr=lr)\n",
    "\n",
    "for i in range(n_epochs):\n",
    "\n",
    "    iterations = random.randint(64,96)\n",
    "\n",
    "    pool_indices = torch.Tensor(random.sample(\n",
    "        range(pool_size), batch_size)).long()\n",
    "\n",
    "    initial_states = pool_initials[pool_indices]\n",
    "\n",
    "    out = model(initial_states, iterations)\n",
    "\n",
    "    phenotypes = out[:, :4].squeeze()\n",
    "\n",
    "    optimizer.zero_grad()\n",
    "\n",
    "    loss = criterion(phenotypes, targets)\n",
    "\n",
    "    per_sample_loss = loss.mean((1, 2, 3))\n",
    "    total_loss = per_sample_loss.mean()\n",
    "\n",
    "    total_loss.backward()\n",
    "    optimizer.step()\n",
    "\n",
    "    # argsort the losses per sample\n",
    "    ranked_loss = per_sample_loss.argsort()\n",
    "\n",
    "    # get indices of min- and max-loss samples\n",
    "    min_loss_indices = ranked_loss[:1]\n",
    "    max_loss_indices = ranked_loss[1:]\n",
    "\n",
    "    replacements = out.detach()\n",
    "    replacements[max_loss_indices] = seed.clone()\n",
    "\n",
    "    # high-loss outputs are re-tasked with\n",
    "    # mapping the seed to the first image,\n",
    "\n",
    "    # low-loss outputs are tasked with mapping\n",
    "    # mapping to the other image\n",
    "\n",
    "    pool_initials[pool_indices] = replacements\n",
    "\n",
    "    if i % 100 == 0:\n",
    "\n",
    "        print(i, np.log10(float(total_loss.cpu().detach())))\n",
    "\n",
    "        torch.save(model.state_dict(), \"../models/disconnected_\"+str(i))\n",
    "\n",
    "    losses.append(float(total_loss))"
   ]
  },
  {
   "cell_type": "code",
   "execution_count": 21,
   "metadata": {
    "ExecuteTime": {
     "end_time": "2020-06-07T20:59:31.085205Z",
     "start_time": "2020-06-07T20:59:30.995738Z"
    }
   },
   "outputs": [
    {
     "data": {
      "text/plain": [
       "[<matplotlib.lines.Line2D at 0x7f1013213c50>]"
      ]
     },
     "execution_count": 21,
     "metadata": {},
     "output_type": "execute_result"
    },
    {
     "data": {
      "image/png": "[encoded data removed]",
      "text/plain": [
       "<Figure size 432x288 with 1 Axes>"
      ]
     },
     "metadata": {
      "needs_background": "light"
     },
     "output_type": "display_data"
    }
   ],
   "source": [
    "plt.plot(np.log10(losses))"
   ]
  },
  {
   "cell_type": "code",
   "execution_count": 179,
   "metadata": {
    "ExecuteTime": {
     "end_time": "2020-06-07T03:42:18.581834Z",
     "start_time": "2020-06-07T03:42:14.148693Z"
    }
   },
   "outputs": [
    {
     "name": "stderr",
     "output_type": "stream",
     "text": [
      "/home/khu/anaconda3/envs/cenv/lib/python3.7/site-packages/torch/utils/checkpoint.py:25: UserWarning: None of the inputs have requires_grad=True. Gradients will be None\n",
      "  warnings.warn(\"None of the inputs have requires_grad=True. Gradients will be None\")\n"
     ]
    }
   ],
   "source": [
    "video = utils.get_model_history(model, seed, 1024)\n",
    "# utils.channels_to_gif(\"../videos/metamorphosis_channels.gif\", video)\n",
    "utils.colors_to_gif(\"../videos/disconnected_colors.gif\", video)"
   ]
  },
  {
   "cell_type": "code",
   "execution_count": 180,
   "metadata": {
    "ExecuteTime": {
     "end_time": "2020-06-07T03:42:19.187486Z",
     "start_time": "2020-06-07T03:42:19.182203Z"
    }
   },
   "outputs": [
    {
     "data": {
      "text/html": [
       "<img src=\"../videos/disconnected_colors.gif?modified=12346\">"
      ],
      "text/plain": [
       "<IPython.core.display.HTML object>"
      ]
     },
     "execution_count": 180,
     "metadata": {},
     "output_type": "execute_result"
    }
   ],
   "source": [
    "from IPython.display import HTML\n",
    "HTML('<img src=\"../videos/disconnected_colors.gif?modified=12346\">')"
   ]
  }
 ],
 "metadata": {
  "kernelspec": {
   "display_name": "Python 3",
   "language": "python",
   "name": "python3"
  },
  "language_info": {
   "codemirror_mode": {
    "name": "ipython",
    "version": 3
   },
   "file_extension": ".py",
   "mimetype": "text/x-python",
   "name": "python",
   "nbconvert_exporter": "python",
   "pygments_lexer": "ipython3",
   "version": "3.7.7"
  },
  "toc": {
   "base_numbering": 1,
   "nav_menu": {},
   "number_sections": true,
   "sideBar": true,
   "skip_h1_title": false,
   "title_cell": "Table of Contents",
   "title_sidebar": "Contents",
   "toc_cell": false,
   "toc_position": {},
   "toc_section_display": true,
   "toc_window_display": true
  }
 },
 "nbformat": 4,
 "nbformat_minor": 4
}
