{
 "cells": [
  {
   "cell_type": "code",
   "execution_count": 102,
   "metadata": {
    "ExecuteTime": {
     "end_time": "2020-05-28T18:06:08.228315Z",
     "start_time": "2020-05-28T18:06:08.222967Z"
    }
   },
   "outputs": [],
   "source": [
    "import torch\n",
    "from torch import nn\n",
    "\n",
    "import torch.functional as F\n",
    "\n",
    "from PIL import Image\n",
    "import torchvision.transforms.functional as TF\n",
    "\n",
    "import matplotlib.pyplot as plt\n",
    "import matplotlib as mpl\n",
    "import seaborn as sns\n",
    "\n",
    "import numpy as np\n",
    "import random\n",
    "\n",
    "import requests\n",
    "import io"
   ]
  },
  {
   "cell_type": "code",
   "execution_count": 149,
   "metadata": {
    "ExecuteTime": {
     "end_time": "2020-05-28T18:16:39.928363Z",
     "start_time": "2020-05-28T18:16:39.744398Z"
    }
   },
   "outputs": [
    {
     "data": {
      "text/plain": [
       "<matplotlib.image.AxesImage at 0x7fbfb8189a10>"
      ]
     },
     "execution_count": 149,
     "metadata": {},
     "output_type": "execute_result"
    },
    {
     "data": {
      "image/png": "[encoded data removed]",
      "text/plain": [
       "<Figure size 432x288 with 1 Axes>"
      ]
     },
     "metadata": {
      "needs_background": "light"
     },
     "output_type": "display_data"
    }
   ],
   "source": [
    "def load_image(url, max_size=48, padding=8):\n",
    "    r = requests.get(url)\n",
    "    img = Image.open(io.BytesIO(r.content))\n",
    "    img.thumbnail((max_size, max_size), Image.ANTIALIAS)\n",
    "    img = np.float32(img)/255.0\n",
    "    img = np.pad(img,((8,8),(8,8),(0,0)))\n",
    "    \n",
    "    # premultiply RGB by Alpha\n",
    "    img[..., :3] *= img[..., 3:]\n",
    "    \n",
    "    img = torch.Tensor(img).cuda()\n",
    "    img = img.transpose(0,2)\n",
    "\n",
    "    return img\n",
    "\n",
    "\n",
    "def load_emoji(emoji):\n",
    "    code = hex(ord(emoji))[2:].lower()\n",
    "    url = 'https://raw.githubusercontent.com/iamcal/emoji-data/master/img-apple-64/%s.png' % code\n",
    "    return load_image(url)\n",
    "\n",
    "\n",
    "image = load_emoji(\"🦆\")\n",
    "\n",
    "plt.imshow(image.transpose(0,2).cpu())"
   ]
  },
  {
   "cell_type": "code",
   "execution_count": 207,
   "metadata": {
    "ExecuteTime": {
     "end_time": "2020-05-28T18:47:58.553850Z",
     "start_time": "2020-05-28T18:47:58.543539Z"
    }
   },
   "outputs": [],
   "source": [
    "class Automata(nn.Module):\n",
    "\n",
    "    def __init__(self, grid_size, n_channels, seed_pos):\n",
    "\n",
    "        super(Automata, self).__init__()\n",
    "\n",
    "        self.n_channels = n_channels\n",
    "        self.seed_pos = seed_pos\n",
    "        self.grid_size = grid_size\n",
    "\n",
    "        self.filters = torch.Tensor([[[[-1, 0, 1],\n",
    "                                       [-2, 0, 2],\n",
    "                                       [-1, 0, 1]\n",
    "                                       ]],\n",
    "                                     [[[-1, -2, -1],\n",
    "                                       [0, 0, 0],\n",
    "                                       [1, 2, 1]\n",
    "                                       ]],\n",
    "                                     [[[0, 0, 0],\n",
    "                                       [0, 1, 0],\n",
    "                                       [0, 0, 0]\n",
    "                                       ]]]).cuda()\n",
    "\n",
    "        self.mapper = nn.Sequential(\n",
    "            nn.Linear(3*n_channels, 128),\n",
    "            nn.ReLU(),\n",
    "            nn.Linear(128, n_channels),\n",
    "            nn.Tanh()\n",
    "        )\n",
    "\n",
    "        self.mapper[2].weight.data.fill_(0)\n",
    "        self.mapper[2].bias.data.fill_(0)\n",
    "\n",
    "    def perception(self, x):\n",
    "\n",
    "        conved = nn.functional.pad(x, (1, 1, 1, 1), mode=\"reflect\")\n",
    "        conved = nn.functional.conv2d(conved, model.filters)\n",
    "        conved = conved.view(1, 3*self.n_channels, -1)\n",
    "\n",
    "        conved = conved.transpose(1, 2)\n",
    "        conved = self.mapper(conved)\n",
    "\n",
    "        conved = conved.transpose(1, 2)\n",
    "        conved = conved.view(self.n_channels, 1, *self.grid_size)\n",
    "\n",
    "        can_update = torch.rand_like(conved) < 0.75\n",
    "        \n",
    "        return conved*can_update\n",
    "\n",
    "    def forward(self, x, iterations):\n",
    "        \n",
    "        model.history = torch.zeros(iterations, *x.shape)\n",
    "        \n",
    "        for i in range(iterations):\n",
    "\n",
    "            conved = self.perception(x)\n",
    "\n",
    "            x = x + conved\n",
    "\n",
    "            is_alive = nn.functional.max_pool2d(\n",
    "                x[3], (3, 3), stride=1, padding=1) > 0\n",
    "\n",
    "            x = x*is_alive\n",
    "            x[:4].clamp_(0, 1)\n",
    "            \n",
    "            model.history[i] = x\n",
    "\n",
    "        return x"
   ]
  },
  {
   "cell_type": "code",
   "execution_count": 208,
   "metadata": {
    "ExecuteTime": {
     "end_time": "2020-05-28T18:50:41.357501Z",
     "start_time": "2020-05-28T18:48:00.181072Z"
    }
   },
   "outputs": [
    {
     "name": "stdout",
     "output_type": "stream",
     "text": [
      "0 0.10209284722805023\n",
      "100 0.026805788278579712\n",
      "200 0.014453653246164322\n",
      "300 0.022534187883138657\n",
      "400 0.013229960575699806\n",
      "500 0.01372392475605011\n",
      "600 0.010587673634290695\n",
      "700 0.010725388303399086\n",
      "800 0.010208848863840103\n",
      "900 0.01141517423093319\n",
      "1000 0.007231998257339001\n",
      "1100 0.008791272528469563\n",
      "1200 0.010590018704533577\n",
      "1300 0.005043069366365671\n",
      "1400 0.007365576922893524\n",
      "1500 0.008666757494211197\n",
      "1600 0.006638010963797569\n",
      "1700 0.004798645153641701\n",
      "1800 0.004240661859512329\n",
      "1900 0.0035087326541543007\n",
      "2000 0.004199202172458172\n",
      "2100 0.005076095461845398\n",
      "2200 0.0030097109265625477\n",
      "2300 0.0036598278675228357\n",
      "2400 0.003558133263140917\n"
     ]
    }
   ],
   "source": [
    "n_epochs = 2500\n",
    "\n",
    "lr = 0.001\n",
    "\n",
    "model = Automata((64, 64), 16, (32, 32)).cuda()\n",
    "\n",
    "criterion = nn.MSELoss()\n",
    "\n",
    "optimizer = torch.optim.Adam(model.parameters(), lr=lr)\n",
    "\n",
    "initial_state = torch.zeros(16, 1, 64, 64).cuda()\n",
    "initial_state[3:, 0, 32, 32] = 1\n",
    "\n",
    "losses = []\n",
    "\n",
    "for i in range(n_epochs):\n",
    "    \n",
    "    iterations = random.randint(64,96)\n",
    "\n",
    "    out = model(initial_state,iterations)[:4].squeeze()\n",
    "\n",
    "    optimizer.zero_grad()\n",
    "\n",
    "    loss = criterion(out, image)\n",
    "\n",
    "    loss.backward()\n",
    "    optimizer.step()\n",
    "\n",
    "    if i % 100 == 0:\n",
    "    \n",
    "        print(i, float(loss.cpu().detach()))\n",
    "        \n",
    "    losses.append(loss)"
   ]
  },
  {
   "cell_type": "code",
   "execution_count": 209,
   "metadata": {
    "ExecuteTime": {
     "end_time": "2020-05-28T18:50:44.861358Z",
     "start_time": "2020-05-28T18:50:44.776226Z"
    }
   },
   "outputs": [
    {
     "data": {
      "text/plain": [
       "<matplotlib.image.AxesImage at 0x7fbf89a16290>"
      ]
     },
     "execution_count": 209,
     "metadata": {},
     "output_type": "execute_result"
    },
    {
     "data": {
      "image/png": "[encoded data removed]",
      "text/plain": [
       "<Figure size 432x288 with 1 Axes>"
      ]
     },
     "metadata": {
      "needs_background": "light"
     },
     "output_type": "display_data"
    }
   ],
   "source": [
    "\n",
    "plt.imshow(out.transpose(0,2).cpu().detach())\n"
   ]
  },
  {
   "cell_type": "code",
   "execution_count": 211,
   "metadata": {
    "ExecuteTime": {
     "end_time": "2020-05-28T18:50:50.396258Z",
     "start_time": "2020-05-28T18:50:50.310578Z"
    }
   },
   "outputs": [
    {
     "data": {
      "text/plain": [
       "<matplotlib.image.AxesImage at 0x7fbf89964350>"
      ]
     },
     "execution_count": 211,
     "metadata": {},
     "output_type": "execute_result"
    },
    {
     "data": {
      "image/png": "[encoded data removed]",
      "text/plain": [
       "<Figure size 432x288 with 1 Axes>"
      ]
     },
     "metadata": {
      "needs_background": "light"
     },
     "output_type": "display_data"
    }
   ],
   "source": [
    "plt.imshow(model.history[64][:4,0].transpose(0,2).cpu().detach())"
   ]
  }
 ],
 "metadata": {
  "kernelspec": {
   "display_name": "Python 3",
   "language": "python",
   "name": "python3"
  },
  "language_info": {
   "codemirror_mode": {
    "name": "ipython",
    "version": 3
   },
   "file_extension": ".py",
   "mimetype": "text/x-python",
   "name": "python",
   "nbconvert_exporter": "python",
   "pygments_lexer": "ipython3",
   "version": "3.7.6"
  },
  "toc": {
   "base_numbering": 1,
   "nav_menu": {},
   "number_sections": true,
   "sideBar": true,
   "skip_h1_title": false,
   "title_cell": "Table of Contents",
   "title_sidebar": "Contents",
   "toc_cell": false,
   "toc_position": {},
   "toc_section_display": true,
   "toc_window_display": false
  }
 },
 "nbformat": 4,
 "nbformat_minor": 4
}
